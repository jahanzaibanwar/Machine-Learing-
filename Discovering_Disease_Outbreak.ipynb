{
  "nbformat": 4,
  "nbformat_minor": 0,
  "metadata": {
    "colab": {
      "name": "Discovering_Disease_Outbreak.ipynb",
      "provenance": []
    },
    "kernelspec": {
      "name": "python3",
      "display_name": "Python 3"
    },
    "accelerator": "TPU"
  },
  "cells": [
    {
      "cell_type": "code",
      "metadata": {
        "id": "6U-M3UCdKKti",
        "colab_type": "code",
        "colab": {
          "base_uri": "https://localhost:8080/",
          "height": 207
        },
        "outputId": "5146c394-7e37-41b3-f766-a3b80a84fdce"
      },
      "source": [
        "# Importing all the module\n",
        "import pandas as pd\n",
        "import numpy as np\n",
        "import matplotlib.pyplot as plt\n",
        "!pip install unidecode\n",
        "import re\n",
        "!pip install geonamescache\n",
        "import geonamescache \n",
        "from nltk.tokenize import RegexpTokenizer\n",
        "from unidecode import unidecode\n",
        "from geonamescache import GeonamesCache"
      ],
      "execution_count": 1,
      "outputs": [
        {
          "output_type": "stream",
          "text": [
            "Collecting unidecode\n",
            "\u001b[?25l  Downloading https://files.pythonhosted.org/packages/d0/42/d9edfed04228bacea2d824904cae367ee9efd05e6cce7ceaaedd0b0ad964/Unidecode-1.1.1-py2.py3-none-any.whl (238kB)\n",
            "\r\u001b[K     |█▍                              | 10kB 15.5MB/s eta 0:00:01\r\u001b[K     |██▊                             | 20kB 2.1MB/s eta 0:00:01\r\u001b[K     |████▏                           | 30kB 2.7MB/s eta 0:00:01\r\u001b[K     |█████▌                          | 40kB 3.0MB/s eta 0:00:01\r\u001b[K     |██████▉                         | 51kB 2.5MB/s eta 0:00:01\r\u001b[K     |████████▎                       | 61kB 2.7MB/s eta 0:00:01\r\u001b[K     |█████████▋                      | 71kB 3.0MB/s eta 0:00:01\r\u001b[K     |███████████                     | 81kB 3.3MB/s eta 0:00:01\r\u001b[K     |████████████▍                   | 92kB 3.5MB/s eta 0:00:01\r\u001b[K     |█████████████▊                  | 102kB 3.3MB/s eta 0:00:01\r\u001b[K     |███████████████▏                | 112kB 3.3MB/s eta 0:00:01\r\u001b[K     |████████████████▌               | 122kB 3.3MB/s eta 0:00:01\r\u001b[K     |█████████████████▉              | 133kB 3.3MB/s eta 0:00:01\r\u001b[K     |███████████████████▎            | 143kB 3.3MB/s eta 0:00:01\r\u001b[K     |████████████████████▋           | 153kB 3.3MB/s eta 0:00:01\r\u001b[K     |██████████████████████          | 163kB 3.3MB/s eta 0:00:01\r\u001b[K     |███████████████████████▍        | 174kB 3.3MB/s eta 0:00:01\r\u001b[K     |████████████████████████▊       | 184kB 3.3MB/s eta 0:00:01\r\u001b[K     |██████████████████████████▏     | 194kB 3.3MB/s eta 0:00:01\r\u001b[K     |███████████████████████████▌    | 204kB 3.3MB/s eta 0:00:01\r\u001b[K     |████████████████████████████▉   | 215kB 3.3MB/s eta 0:00:01\r\u001b[K     |██████████████████████████████▎ | 225kB 3.3MB/s eta 0:00:01\r\u001b[K     |███████████████████████████████▋| 235kB 3.3MB/s eta 0:00:01\r\u001b[K     |████████████████████████████████| 245kB 3.3MB/s \n",
            "\u001b[?25hInstalling collected packages: unidecode\n",
            "Successfully installed unidecode-1.1.1\n",
            "Collecting geonamescache\n",
            "\u001b[?25l  Downloading https://files.pythonhosted.org/packages/32/c1/efb823270c8526b2f4f3eb8c804c5a0a55277267ad2312f5eb47bd9cc370/geonamescache-1.1.0-py3-none-any.whl (830kB)\n",
            "\u001b[K     |████████████████████████████████| 839kB 3.5MB/s \n",
            "\u001b[?25hInstalling collected packages: geonamescache\n",
            "Successfully installed geonamescache-1.1.0\n"
          ],
          "name": "stdout"
        }
      ]
    },
    {
      "cell_type": "code",
      "metadata": {
        "id": "IAuqcokZKpXg",
        "colab_type": "code",
        "colab": {}
      },
      "source": [
        "#Reading the Text File \n",
        "data = pd.read_csv(\"headlines.txt\",delimiter=\"\\t\", header=None)"
      ],
      "execution_count": 0,
      "outputs": []
    },
    {
      "cell_type": "markdown",
      "metadata": {
        "id": "O4k5pXMGh7w-",
        "colab_type": "text"
      },
      "source": [
        ""
      ]
    },
    {
      "cell_type": "code",
      "metadata": {
        "id": "s7HpL3t9K8hv",
        "colab_type": "code",
        "colab": {
          "base_uri": "https://localhost:8080/",
          "height": 34
        },
        "outputId": "66457217-f2ef-49ed-c15e-777046e3055f"
      },
      "source": [
        "data.columns"
      ],
      "execution_count": 4,
      "outputs": [
        {
          "output_type": "execute_result",
          "data": {
            "text/plain": [
              "Int64Index([0], dtype='int64')"
            ]
          },
          "metadata": {
            "tags": []
          },
          "execution_count": 4
        }
      ]
    },
    {
      "cell_type": "code",
      "metadata": {
        "id": "rugUfuzNK_L7",
        "colab_type": "code",
        "colab": {}
      },
      "source": [
        "# Naming the column to\n",
        "data.columns = ['headlines']"
      ],
      "execution_count": 0,
      "outputs": []
    },
    {
      "cell_type": "code",
      "metadata": {
        "id": "xNRI7ZaOCb6B",
        "colab_type": "code",
        "colab": {
          "base_uri": "https://localhost:8080/",
          "height": 34
        },
        "outputId": "95b606c3-7782-498f-ac5b-94f7a08bc26e"
      },
      "source": [
        "data.headlines = data.headlines.astype('str')\n",
        "data.columns"
      ],
      "execution_count": 6,
      "outputs": [
        {
          "output_type": "execute_result",
          "data": {
            "text/plain": [
              "Index(['headlines'], dtype='object')"
            ]
          },
          "metadata": {
            "tags": []
          },
          "execution_count": 6
        }
      ]
    },
    {
      "cell_type": "code",
      "metadata": {
        "id": "rQ6rFeEFHu9Z",
        "colab_type": "code",
        "colab": {
          "base_uri": "https://localhost:8080/",
          "height": 85
        },
        "outputId": "ddd3c880-b473-4d01-fdc7-5e876f348c14"
      },
      "source": [
        "# Before Removal of the foreign characters\n",
        "data['headlines'].iloc[13 : 16]\n",
        "#data['headlines'][12]"
      ],
      "execution_count": 7,
      "outputs": [
        {
          "output_type": "execute_result",
          "data": {
            "text/plain": [
              "13      Flu outbreak in Galveston, Texas\n",
              "14    Zika alert – Manila now threatened\n",
              "15        Zika afflicts 7 in Iloilo City\n",
              "Name: headlines, dtype: object"
            ]
          },
          "metadata": {
            "tags": []
          },
          "execution_count": 7
        }
      ]
    },
    {
      "cell_type": "code",
      "metadata": {
        "id": "ehGdbfJRHusv",
        "colab_type": "code",
        "colab": {}
      },
      "source": [
        "# Removing all the foreign Characters \n",
        "data['headlines'] = data['headlines'].apply(lambda x: re.sub(r'[^\\w\\s]',' ', x))"
      ],
      "execution_count": 0,
      "outputs": []
    },
    {
      "cell_type": "code",
      "metadata": {
        "id": "10x3MgmcHudR",
        "colab_type": "code",
        "colab": {
          "base_uri": "https://localhost:8080/",
          "height": 85
        },
        "outputId": "8b7010d9-5a27-4b6e-98dc-70d9cf604082"
      },
      "source": [
        "# After Removing any Foreign Characters\n",
        "data['headlines'].iloc[13:16]"
      ],
      "execution_count": 9,
      "outputs": [
        {
          "output_type": "execute_result",
          "data": {
            "text/plain": [
              "13      Flu outbreak in Galveston  Texas\n",
              "14    Zika alert   Manila now threatened\n",
              "15        Zika afflicts 7 in Iloilo City\n",
              "Name: headlines, dtype: object"
            ]
          },
          "metadata": {
            "tags": []
          },
          "execution_count": 9
        }
      ]
    },
    {
      "cell_type": "code",
      "metadata": {
        "id": "P-iRfvRlNOJG",
        "colab_type": "code",
        "colab": {
          "base_uri": "https://localhost:8080/",
          "height": 204
        },
        "outputId": "915bca4c-6f5c-4a3e-fd69-09e71d631d54"
      },
      "source": [
        "data.head()"
      ],
      "execution_count": 10,
      "outputs": [
        {
          "output_type": "execute_result",
          "data": {
            "text/html": [
              "<div>\n",
              "<style scoped>\n",
              "    .dataframe tbody tr th:only-of-type {\n",
              "        vertical-align: middle;\n",
              "    }\n",
              "\n",
              "    .dataframe tbody tr th {\n",
              "        vertical-align: top;\n",
              "    }\n",
              "\n",
              "    .dataframe thead th {\n",
              "        text-align: right;\n",
              "    }\n",
              "</style>\n",
              "<table border=\"1\" class=\"dataframe\">\n",
              "  <thead>\n",
              "    <tr style=\"text-align: right;\">\n",
              "      <th></th>\n",
              "      <th>headlines</th>\n",
              "    </tr>\n",
              "  </thead>\n",
              "  <tbody>\n",
              "    <tr>\n",
              "      <th>0</th>\n",
              "      <td>Zika Outbreak Hits Miami</td>\n",
              "    </tr>\n",
              "    <tr>\n",
              "      <th>1</th>\n",
              "      <td>Could Zika Reach New York City</td>\n",
              "    </tr>\n",
              "    <tr>\n",
              "      <th>2</th>\n",
              "      <td>First Case of Zika in Miami Beach</td>\n",
              "    </tr>\n",
              "    <tr>\n",
              "      <th>3</th>\n",
              "      <td>Mystery Virus Spreads in Recife  Brazil</td>\n",
              "    </tr>\n",
              "    <tr>\n",
              "      <th>4</th>\n",
              "      <td>Dallas man comes down with case of Zika</td>\n",
              "    </tr>\n",
              "  </tbody>\n",
              "</table>\n",
              "</div>"
            ],
            "text/plain": [
              "                                 headlines\n",
              "0                 Zika Outbreak Hits Miami\n",
              "1          Could Zika Reach New York City \n",
              "2        First Case of Zika in Miami Beach\n",
              "3  Mystery Virus Spreads in Recife  Brazil\n",
              "4  Dallas man comes down with case of Zika"
            ]
          },
          "metadata": {
            "tags": []
          },
          "execution_count": 10
        }
      ]
    },
    {
      "cell_type": "code",
      "metadata": {
        "id": "N2n4s4ZDNayJ",
        "colab_type": "code",
        "colab": {
          "base_uri": "https://localhost:8080/",
          "height": 34
        },
        "outputId": "20ec00e7-38e4-4d1f-92ec-8b27a8c142c3"
      },
      "source": [
        "data.columns\n",
        "#data[\"countries\"]= data[\"headlines\"].g(get_countries_by_names())"
      ],
      "execution_count": 11,
      "outputs": [
        {
          "output_type": "execute_result",
          "data": {
            "text/plain": [
              "Index(['headlines'], dtype='object')"
            ]
          },
          "metadata": {
            "tags": []
          },
          "execution_count": 11
        }
      ]
    },
    {
      "cell_type": "code",
      "metadata": {
        "id": "qOSCGAdnOTog",
        "colab_type": "code",
        "colab": {}
      },
      "source": [
        "# Using GeonameCaches To fetch all the country names available \n",
        "gc = GeonamesCache()\n",
        "countries = gc.get_countries()\n",
        "country_val = (countries.values())\n",
        "\n",
        "#nma = laa['name']\n",
        "#print(f\"GeonamesCache holds data for {num_countries} countries.\")"
      ],
      "execution_count": 0,
      "outputs": []
    },
    {
      "cell_type": "code",
      "metadata": {
        "id": "zh--LSghQebe",
        "colab_type": "code",
        "colab": {}
      },
      "source": [
        "# Saving all the country names in the list\n",
        "country_names = []\n",
        "country_val = list(country_val)\n",
        "for complete_dict in country_val:\n",
        "  country_names.append(complete_dict['name'])\n",
        " \n",
        "    \n",
        "\n"
      ],
      "execution_count": 0,
      "outputs": []
    },
    {
      "cell_type": "code",
      "metadata": {
        "id": "t_MrlQuAQkvs",
        "colab_type": "code",
        "colab": {
          "base_uri": "https://localhost:8080/",
          "height": 54
        },
        "outputId": "c318186c-8d1f-4503-e046-9d9a48b29a4e"
      },
      "source": [
        "print(country_names)\n"
      ],
      "execution_count": 14,
      "outputs": [
        {
          "output_type": "stream",
          "text": [
            "['Andorra', 'United Arab Emirates', 'Afghanistan', 'Antigua and Barbuda', 'Anguilla', 'Albania', 'Armenia', 'Angola', 'Antarctica', 'Argentina', 'American Samoa', 'Austria', 'Australia', 'Aruba', 'Aland Islands', 'Azerbaijan', 'Bosnia and Herzegovina', 'Barbados', 'Bangladesh', 'Belgium', 'Burkina Faso', 'Bulgaria', 'Bahrain', 'Burundi', 'Benin', 'Saint Barthelemy', 'Bermuda', 'Brunei', 'Bolivia', 'Bonaire, Saint Eustatius and Saba ', 'Brazil', 'Bahamas', 'Bhutan', 'Bouvet Island', 'Botswana', 'Belarus', 'Belize', 'Canada', 'Cocos Islands', 'Democratic Republic of the Congo', 'Central African Republic', 'Republic of the Congo', 'Switzerland', 'Ivory Coast', 'Cook Islands', 'Chile', 'Cameroon', 'China', 'Colombia', 'Costa Rica', 'Cuba', 'Cabo Verde', 'Curacao', 'Christmas Island', 'Cyprus', 'Czechia', 'Germany', 'Djibouti', 'Denmark', 'Dominica', 'Dominican Republic', 'Algeria', 'Ecuador', 'Estonia', 'Egypt', 'Western Sahara', 'Eritrea', 'Spain', 'Ethiopia', 'Finland', 'Fiji', 'Falkland Islands', 'Micronesia', 'Faroe Islands', 'France', 'Gabon', 'United Kingdom', 'Grenada', 'Georgia', 'French Guiana', 'Guernsey', 'Ghana', 'Gibraltar', 'Greenland', 'Gambia', 'Guinea', 'Guadeloupe', 'Equatorial Guinea', 'Greece', 'South Georgia and the South Sandwich Islands', 'Guatemala', 'Guam', 'Guinea-Bissau', 'Guyana', 'Hong Kong', 'Heard Island and McDonald Islands', 'Honduras', 'Croatia', 'Haiti', 'Hungary', 'Indonesia', 'Ireland', 'Israel', 'Isle of Man', 'India', 'British Indian Ocean Territory', 'Iraq', 'Iran', 'Iceland', 'Italy', 'Jersey', 'Jamaica', 'Jordan', 'Japan', 'Kenya', 'Kyrgyzstan', 'Cambodia', 'Kiribati', 'Comoros', 'Saint Kitts and Nevis', 'North Korea', 'South Korea', 'Kosovo', 'Kuwait', 'Cayman Islands', 'Kazakhstan', 'Laos', 'Lebanon', 'Saint Lucia', 'Liechtenstein', 'Sri Lanka', 'Liberia', 'Lesotho', 'Lithuania', 'Luxembourg', 'Latvia', 'Libya', 'Morocco', 'Monaco', 'Moldova', 'Montenegro', 'Saint Martin', 'Madagascar', 'Marshall Islands', 'North Macedonia', 'Mali', 'Myanmar', 'Mongolia', 'Macao', 'Northern Mariana Islands', 'Martinique', 'Mauritania', 'Montserrat', 'Malta', 'Mauritius', 'Maldives', 'Malawi', 'Mexico', 'Malaysia', 'Mozambique', 'Namibia', 'New Caledonia', 'Niger', 'Norfolk Island', 'Nigeria', 'Nicaragua', 'Netherlands', 'Norway', 'Nepal', 'Nauru', 'Niue', 'New Zealand', 'Oman', 'Panama', 'Peru', 'French Polynesia', 'Papua New Guinea', 'Philippines', 'Pakistan', 'Poland', 'Saint Pierre and Miquelon', 'Pitcairn', 'Puerto Rico', 'Palestinian Territory', 'Portugal', 'Palau', 'Paraguay', 'Qatar', 'Reunion', 'Romania', 'Serbia', 'Russia', 'Rwanda', 'Saudi Arabia', 'Solomon Islands', 'Seychelles', 'Sudan', 'South Sudan', 'Sweden', 'Singapore', 'Saint Helena', 'Slovenia', 'Svalbard and Jan Mayen', 'Slovakia', 'Sierra Leone', 'San Marino', 'Senegal', 'Somalia', 'Suriname', 'Sao Tome and Principe', 'El Salvador', 'Sint Maarten', 'Syria', 'Eswatini', 'Turks and Caicos Islands', 'Chad', 'French Southern Territories', 'Togo', 'Thailand', 'Tajikistan', 'Tokelau', 'Timor Leste', 'Turkmenistan', 'Tunisia', 'Tonga', 'Turkey', 'Trinidad and Tobago', 'Tuvalu', 'Taiwan', 'Tanzania', 'Ukraine', 'Uganda', 'United States Minor Outlying Islands', 'United States', 'Uruguay', 'Uzbekistan', 'Vatican', 'Saint Vincent and the Grenadines', 'Venezuela', 'British Virgin Islands', 'U.S. Virgin Islands', 'Vietnam', 'Vanuatu', 'Wallis and Futuna', 'Samoa', 'Yemen', 'Mayotte', 'South Africa', 'Zambia', 'Zimbabwe', 'Serbia and Montenegro', 'Netherlands Antilles']\n"
          ],
          "name": "stdout"
        }
      ]
    },
    {
      "cell_type": "code",
      "metadata": {
        "id": "5SandYt-ftB7",
        "colab_type": "code",
        "colab": {}
      },
      "source": [
        "#Fetching all the city names available \n",
        "cities_full = gc.get_cities()\n",
        "cities = (cities_full.values())"
      ],
      "execution_count": 0,
      "outputs": []
    },
    {
      "cell_type": "code",
      "metadata": {
        "id": "ObipU1WFh_ep",
        "colab_type": "code",
        "colab": {}
      },
      "source": [
        "cities_names = []\n",
        "cities_val = list(cities)\n",
        "for complete_dict in cities_val:\n",
        "  cities_names.append(complete_dict['name'])"
      ],
      "execution_count": 0,
      "outputs": []
    },
    {
      "cell_type": "code",
      "metadata": {
        "id": "qD9S4osOv16h",
        "colab_type": "code",
        "colab": {
          "base_uri": "https://localhost:8080/",
          "height": 34
        },
        "outputId": "51ca631a-342b-4fae-bc7a-535a1d17cff2"
      },
      "source": [
        "len(cities_names)"
      ],
      "execution_count": 17,
      "outputs": [
        {
          "output_type": "execute_result",
          "data": {
            "text/plain": [
              "24336"
            ]
          },
          "metadata": {
            "tags": []
          },
          "execution_count": 17
        }
      ]
    },
    {
      "cell_type": "code",
      "metadata": {
        "id": "cwEwJGpyxgN3",
        "colab_type": "code",
        "colab": {}
      },
      "source": [
        "# Tokenizing The text in the headlines\n",
        "tokenizer = RegexpTokenizer('\\w+|\\$[\\d\\.]+|\\S+')\n",
        "#tokenizer.tokenize(s)"
      ],
      "execution_count": 0,
      "outputs": []
    },
    {
      "cell_type": "code",
      "metadata": {
        "id": "_0u1L5haxwi_",
        "colab_type": "code",
        "colab": {}
      },
      "source": [
        "data['tokenized'] = data['headlines'].apply(lambda x: tokenizer.tokenize(x))"
      ],
      "execution_count": 0,
      "outputs": []
    },
    {
      "cell_type": "code",
      "metadata": {
        "id": "GAyW49ckzbLh",
        "colab_type": "code",
        "colab": {
          "base_uri": "https://localhost:8080/",
          "height": 34
        },
        "outputId": "9d7f3016-a6b4-4a20-e6e8-a1394ab2a264"
      },
      "source": [
        "data['tokenized'][0]"
      ],
      "execution_count": 20,
      "outputs": [
        {
          "output_type": "execute_result",
          "data": {
            "text/plain": [
              "['Zika', 'Outbreak', 'Hits', 'Miami']"
            ]
          },
          "metadata": {
            "tags": []
          },
          "execution_count": 20
        }
      ]
    },
    {
      "cell_type": "code",
      "metadata": {
        "id": "xdnbmSYCzgCJ",
        "colab_type": "code",
        "colab": {}
      },
      "source": [
        "#test=  ['Zika', 'Outbreak', 'Hits', 'Afghanistan']\n",
        "#test2 = ['Zikaaa', 'Outbreakaa', 'Hiats', 'Afghanistan']\n",
        "#data['country_names']= ''\n",
        "#fetched_countries = []"
      ],
      "execution_count": 0,
      "outputs": []
    },
    {
      "cell_type": "code",
      "metadata": {
        "id": "BSwJgHC74AsB",
        "colab_type": "code",
        "colab": {}
      },
      "source": [
        ""
      ],
      "execution_count": 0,
      "outputs": []
    },
    {
      "cell_type": "code",
      "metadata": {
        "id": "M_ZGt6XiMkN8",
        "colab_type": "code",
        "colab": {}
      },
      "source": [
        "# Making Comparision of all the cities in the headlines and saving in the country names coulmn\n",
        "data['country_names']= ''\n",
        "for i, j in data.iterrows():\n",
        "  count_ = 0\n",
        "  #print(i, j['tokenized'])\n",
        "  for each_word in j['tokenized']:\n",
        "    #print(each_word)\n",
        "    #print(i,j['headlines'])\n",
        "    for countr in country_names:\n",
        "\n",
        "      if each_word == countr:\n",
        "        if count_ == 0:\n",
        "          data.at[i, 'country_names']= countr\n",
        "          count_+=1\n",
        "        elif count_ > 0:\n",
        "          data.at[i, 'country_name'+ each_word]\n",
        "\n",
        "      #fetched_countries.append(countr)\n",
        "\n",
        "  \n",
        "    "
      ],
      "execution_count": 0,
      "outputs": []
    },
    {
      "cell_type": "code",
      "metadata": {
        "id": "K6LUkUrl4Dzz",
        "colab_type": "code",
        "colab": {
          "base_uri": "https://localhost:8080/",
          "height": 221
        },
        "outputId": "b31cf0e4-db62-42bc-dcdc-62ab72fa9265"
      },
      "source": [
        "data['country_names']"
      ],
      "execution_count": 23,
      "outputs": [
        {
          "output_type": "execute_result",
          "data": {
            "text/plain": [
              "0            \n",
              "1            \n",
              "2            \n",
              "3      Brazil\n",
              "4            \n",
              "        ...  \n",
              "645          \n",
              "646          \n",
              "647          \n",
              "648          \n",
              "649          \n",
              "Name: country_names, Length: 650, dtype: object"
            ]
          },
          "metadata": {
            "tags": []
          },
          "execution_count": 23
        }
      ]
    },
    {
      "cell_type": "code",
      "metadata": {
        "id": "mONRgkhp9LnP",
        "colab_type": "code",
        "colab": {
          "base_uri": "https://localhost:8080/",
          "height": 1000
        },
        "outputId": "3fa7c505-7807-450e-cdce-dac1f3e8e112"
      },
      "source": [
        "data.head(50)\n",
        "#print(fetched_countries)\n",
        "      \n",
        "#print(i,ro)\n",
        "    #print(j['headlines']) \n",
        "    #print() \n",
        "    #for value in country_names:\n",
        "      #if j['headlines'] == value:\n",
        "        #data.at[i, j['country_names']]=value\n",
        "        #print(value)"
      ],
      "execution_count": 24,
      "outputs": [
        {
          "output_type": "execute_result",
          "data": {
            "text/html": [
              "<div>\n",
              "<style scoped>\n",
              "    .dataframe tbody tr th:only-of-type {\n",
              "        vertical-align: middle;\n",
              "    }\n",
              "\n",
              "    .dataframe tbody tr th {\n",
              "        vertical-align: top;\n",
              "    }\n",
              "\n",
              "    .dataframe thead th {\n",
              "        text-align: right;\n",
              "    }\n",
              "</style>\n",
              "<table border=\"1\" class=\"dataframe\">\n",
              "  <thead>\n",
              "    <tr style=\"text-align: right;\">\n",
              "      <th></th>\n",
              "      <th>headlines</th>\n",
              "      <th>tokenized</th>\n",
              "      <th>country_names</th>\n",
              "    </tr>\n",
              "  </thead>\n",
              "  <tbody>\n",
              "    <tr>\n",
              "      <th>0</th>\n",
              "      <td>Zika Outbreak Hits Miami</td>\n",
              "      <td>[Zika, Outbreak, Hits, Miami]</td>\n",
              "      <td></td>\n",
              "    </tr>\n",
              "    <tr>\n",
              "      <th>1</th>\n",
              "      <td>Could Zika Reach New York City</td>\n",
              "      <td>[Could, Zika, Reach, New, York, City]</td>\n",
              "      <td></td>\n",
              "    </tr>\n",
              "    <tr>\n",
              "      <th>2</th>\n",
              "      <td>First Case of Zika in Miami Beach</td>\n",
              "      <td>[First, Case, of, Zika, in, Miami, Beach]</td>\n",
              "      <td></td>\n",
              "    </tr>\n",
              "    <tr>\n",
              "      <th>3</th>\n",
              "      <td>Mystery Virus Spreads in Recife  Brazil</td>\n",
              "      <td>[Mystery, Virus, Spreads, in, Recife, Brazil]</td>\n",
              "      <td>Brazil</td>\n",
              "    </tr>\n",
              "    <tr>\n",
              "      <th>4</th>\n",
              "      <td>Dallas man comes down with case of Zika</td>\n",
              "      <td>[Dallas, man, comes, down, with, case, of, Zika]</td>\n",
              "      <td></td>\n",
              "    </tr>\n",
              "    <tr>\n",
              "      <th>5</th>\n",
              "      <td>Trinidad confirms first Zika case</td>\n",
              "      <td>[Trinidad, confirms, first, Zika, case]</td>\n",
              "      <td></td>\n",
              "    </tr>\n",
              "    <tr>\n",
              "      <th>6</th>\n",
              "      <td>Zika Concerns are Spreading in Houston</td>\n",
              "      <td>[Zika, Concerns, are, Spreading, in, Houston]</td>\n",
              "      <td></td>\n",
              "    </tr>\n",
              "    <tr>\n",
              "      <th>7</th>\n",
              "      <td>Geneve Scientists Battle to Find Cure</td>\n",
              "      <td>[Geneve, Scientists, Battle, to, Find, Cure]</td>\n",
              "      <td></td>\n",
              "    </tr>\n",
              "    <tr>\n",
              "      <th>8</th>\n",
              "      <td>The CDC in Atlanta is Growing Worried</td>\n",
              "      <td>[The, CDC, in, Atlanta, is, Growing, Worried]</td>\n",
              "      <td></td>\n",
              "    </tr>\n",
              "    <tr>\n",
              "      <th>9</th>\n",
              "      <td>Zika Infested Monkeys in Sao Paulo</td>\n",
              "      <td>[Zika, Infested, Monkeys, in, Sao, Paulo]</td>\n",
              "      <td></td>\n",
              "    </tr>\n",
              "    <tr>\n",
              "      <th>10</th>\n",
              "      <td>Brownsville teen contracts Zika virus</td>\n",
              "      <td>[Brownsville, teen, contracts, Zika, virus]</td>\n",
              "      <td></td>\n",
              "    </tr>\n",
              "    <tr>\n",
              "      <th>11</th>\n",
              "      <td>Mosquito control efforts in St  Louis take new...</td>\n",
              "      <td>[Mosquito, control, efforts, in, St, Louis, ta...</td>\n",
              "      <td></td>\n",
              "    </tr>\n",
              "    <tr>\n",
              "      <th>12</th>\n",
              "      <td>San Juan reports 1st U S  Zika related death a...</td>\n",
              "      <td>[San, Juan, reports, 1st, U, S, Zika, related,...</td>\n",
              "      <td></td>\n",
              "    </tr>\n",
              "    <tr>\n",
              "      <th>13</th>\n",
              "      <td>Flu outbreak in Galveston  Texas</td>\n",
              "      <td>[Flu, outbreak, in, Galveston, Texas]</td>\n",
              "      <td></td>\n",
              "    </tr>\n",
              "    <tr>\n",
              "      <th>14</th>\n",
              "      <td>Zika alert   Manila now threatened</td>\n",
              "      <td>[Zika, alert, Manila, now, threatened]</td>\n",
              "      <td></td>\n",
              "    </tr>\n",
              "    <tr>\n",
              "      <th>15</th>\n",
              "      <td>Zika afflicts 7 in Iloilo City</td>\n",
              "      <td>[Zika, afflicts, 7, in, Iloilo, City]</td>\n",
              "      <td></td>\n",
              "    </tr>\n",
              "    <tr>\n",
              "      <th>16</th>\n",
              "      <td>New Los Angeles Hairstyle goes Viral</td>\n",
              "      <td>[New, Los, Angeles, Hairstyle, goes, Viral]</td>\n",
              "      <td></td>\n",
              "    </tr>\n",
              "    <tr>\n",
              "      <th>17</th>\n",
              "      <td>Louisiana Zika cases up to 26</td>\n",
              "      <td>[Louisiana, Zika, cases, up, to, 26]</td>\n",
              "      <td></td>\n",
              "    </tr>\n",
              "    <tr>\n",
              "      <th>18</th>\n",
              "      <td>Orlando volunteers aid Zika research</td>\n",
              "      <td>[Orlando, volunteers, aid, Zika, research]</td>\n",
              "      <td></td>\n",
              "    </tr>\n",
              "    <tr>\n",
              "      <th>19</th>\n",
              "      <td>Zika infects pregnant woman in Cebu</td>\n",
              "      <td>[Zika, infects, pregnant, woman, in, Cebu]</td>\n",
              "      <td></td>\n",
              "    </tr>\n",
              "    <tr>\n",
              "      <th>20</th>\n",
              "      <td>Chicago s First Zika Case Confirmed</td>\n",
              "      <td>[Chicago, s, First, Zika, Case, Confirmed]</td>\n",
              "      <td></td>\n",
              "    </tr>\n",
              "    <tr>\n",
              "      <th>21</th>\n",
              "      <td>Tampa Bay Area Zika Case Count Climbs</td>\n",
              "      <td>[Tampa, Bay, Area, Zika, Case, Count, Climbs]</td>\n",
              "      <td></td>\n",
              "    </tr>\n",
              "    <tr>\n",
              "      <th>22</th>\n",
              "      <td>Bad Water Leads to Sickness in Flint  Michigan</td>\n",
              "      <td>[Bad, Water, Leads, to, Sickness, in, Flint, M...</td>\n",
              "      <td></td>\n",
              "    </tr>\n",
              "    <tr>\n",
              "      <th>23</th>\n",
              "      <td>Baltimore plans for Zika virus</td>\n",
              "      <td>[Baltimore, plans, for, Zika, virus]</td>\n",
              "      <td></td>\n",
              "    </tr>\n",
              "    <tr>\n",
              "      <th>24</th>\n",
              "      <td>London Health Unit Tracks Mad Cow Disease</td>\n",
              "      <td>[London, Health, Unit, Tracks, Mad, Cow, Disease]</td>\n",
              "      <td></td>\n",
              "    </tr>\n",
              "    <tr>\n",
              "      <th>25</th>\n",
              "      <td>Zika cases in Vietnam s Ho Chi Minh City surge</td>\n",
              "      <td>[Zika, cases, in, Vietnam, s, Ho, Chi, Minh, C...</td>\n",
              "      <td>Vietnam</td>\n",
              "    </tr>\n",
              "    <tr>\n",
              "      <th>26</th>\n",
              "      <td>Philadelphia experts track pandemic</td>\n",
              "      <td>[Philadelphia, experts, track, pandemic]</td>\n",
              "      <td></td>\n",
              "    </tr>\n",
              "    <tr>\n",
              "      <th>27</th>\n",
              "      <td>Flu season hits Boston</td>\n",
              "      <td>[Flu, season, hits, Boston]</td>\n",
              "      <td></td>\n",
              "    </tr>\n",
              "    <tr>\n",
              "      <th>28</th>\n",
              "      <td>Scientists in Paris to look for answers</td>\n",
              "      <td>[Scientists, in, Paris, to, look, for, answers]</td>\n",
              "      <td></td>\n",
              "    </tr>\n",
              "    <tr>\n",
              "      <th>29</th>\n",
              "      <td>Key Zika Findings in San Diego Institute</td>\n",
              "      <td>[Key, Zika, Findings, in, San, Diego, Institute]</td>\n",
              "      <td></td>\n",
              "    </tr>\n",
              "    <tr>\n",
              "      <th>30</th>\n",
              "      <td>Thailand Zika Virus in Bangkok</td>\n",
              "      <td>[Thailand, Zika, Virus, in, Bangkok]</td>\n",
              "      <td>Thailand</td>\n",
              "    </tr>\n",
              "    <tr>\n",
              "      <th>31</th>\n",
              "      <td>Beijing team cracks Zika secret</td>\n",
              "      <td>[Beijing, team, cracks, Zika, secret]</td>\n",
              "      <td></td>\n",
              "    </tr>\n",
              "    <tr>\n",
              "      <th>32</th>\n",
              "      <td>Zika spreading to Salvador</td>\n",
              "      <td>[Zika, spreading, to, Salvador]</td>\n",
              "      <td></td>\n",
              "    </tr>\n",
              "    <tr>\n",
              "      <th>33</th>\n",
              "      <td>Kuala Lumpur is Hit By Zika Threat</td>\n",
              "      <td>[Kuala, Lumpur, is, Hit, By, Zika, Threat]</td>\n",
              "      <td></td>\n",
              "    </tr>\n",
              "    <tr>\n",
              "      <th>34</th>\n",
              "      <td>First Zika case confirmed in Yangon</td>\n",
              "      <td>[First, Zika, case, confirmed, in, Yangon]</td>\n",
              "      <td></td>\n",
              "    </tr>\n",
              "    <tr>\n",
              "      <th>35</th>\n",
              "      <td>Tallahassee Doctors Discuss Zika Virus</td>\n",
              "      <td>[Tallahassee, Doctors, Discuss, Zika, Virus]</td>\n",
              "      <td></td>\n",
              "    </tr>\n",
              "    <tr>\n",
              "      <th>36</th>\n",
              "      <td>Zika Virus Reaches San Francisco</td>\n",
              "      <td>[Zika, Virus, Reaches, San, Francisco]</td>\n",
              "      <td></td>\n",
              "    </tr>\n",
              "    <tr>\n",
              "      <th>37</th>\n",
              "      <td>New Vaccine on Trial in Bethesda District</td>\n",
              "      <td>[New, Vaccine, on, Trial, in, Bethesda, District]</td>\n",
              "      <td></td>\n",
              "    </tr>\n",
              "    <tr>\n",
              "      <th>38</th>\n",
              "      <td>Townsville Zika tests inconclusive</td>\n",
              "      <td>[Townsville, Zika, tests, inconclusive]</td>\n",
              "      <td></td>\n",
              "    </tr>\n",
              "    <tr>\n",
              "      <th>39</th>\n",
              "      <td>Mandaluyong City under Siege by Virus</td>\n",
              "      <td>[Mandaluyong, City, under, Siege, by, Virus]</td>\n",
              "      <td></td>\n",
              "    </tr>\n",
              "    <tr>\n",
              "      <th>40</th>\n",
              "      <td>Hepatitis E re emerges in Santa Rosa</td>\n",
              "      <td>[Hepatitis, E, re, emerges, in, Santa, Rosa]</td>\n",
              "      <td></td>\n",
              "    </tr>\n",
              "    <tr>\n",
              "      <th>41</th>\n",
              "      <td>Zika worries in San Salvador</td>\n",
              "      <td>[Zika, worries, in, San, Salvador]</td>\n",
              "      <td></td>\n",
              "    </tr>\n",
              "    <tr>\n",
              "      <th>42</th>\n",
              "      <td>Zika virus reported in Cleveland</td>\n",
              "      <td>[Zika, virus, reported, in, Cleveland]</td>\n",
              "      <td></td>\n",
              "    </tr>\n",
              "    <tr>\n",
              "      <th>43</th>\n",
              "      <td>More Zika patients reported in Austin</td>\n",
              "      <td>[More, Zika, patients, reported, in, Austin]</td>\n",
              "      <td></td>\n",
              "    </tr>\n",
              "    <tr>\n",
              "      <th>44</th>\n",
              "      <td>Zika outbreak in Piracicaba  Brazil</td>\n",
              "      <td>[Zika, outbreak, in, Piracicaba, Brazil]</td>\n",
              "      <td>Brazil</td>\n",
              "    </tr>\n",
              "    <tr>\n",
              "      <th>45</th>\n",
              "      <td>Lima tries to address Zika Concerns</td>\n",
              "      <td>[Lima, tries, to, address, Zika, Concerns]</td>\n",
              "      <td></td>\n",
              "    </tr>\n",
              "    <tr>\n",
              "      <th>46</th>\n",
              "      <td>More people in Toronto are infected with Hepat...</td>\n",
              "      <td>[More, people, in, Toronto, are, infected, wit...</td>\n",
              "      <td></td>\n",
              "    </tr>\n",
              "    <tr>\n",
              "      <th>47</th>\n",
              "      <td>18 new Zika Cases in Bogota</td>\n",
              "      <td>[18, new, Zika, Cases, in, Bogota]</td>\n",
              "      <td></td>\n",
              "    </tr>\n",
              "    <tr>\n",
              "      <th>48</th>\n",
              "      <td>Spanish Flu Sighted in Antigua</td>\n",
              "      <td>[Spanish, Flu, Sighted, in, Antigua]</td>\n",
              "      <td></td>\n",
              "    </tr>\n",
              "    <tr>\n",
              "      <th>49</th>\n",
              "      <td>Brisbane is infested with Meningitis</td>\n",
              "      <td>[Brisbane, is, infested, with, Meningitis]</td>\n",
              "      <td></td>\n",
              "    </tr>\n",
              "  </tbody>\n",
              "</table>\n",
              "</div>"
            ],
            "text/plain": [
              "                                            headlines  ... country_names\n",
              "0                            Zika Outbreak Hits Miami  ...              \n",
              "1                     Could Zika Reach New York City   ...              \n",
              "2                   First Case of Zika in Miami Beach  ...              \n",
              "3             Mystery Virus Spreads in Recife  Brazil  ...        Brazil\n",
              "4             Dallas man comes down with case of Zika  ...              \n",
              "5                   Trinidad confirms first Zika case  ...              \n",
              "6              Zika Concerns are Spreading in Houston  ...              \n",
              "7               Geneve Scientists Battle to Find Cure  ...              \n",
              "8               The CDC in Atlanta is Growing Worried  ...              \n",
              "9                  Zika Infested Monkeys in Sao Paulo  ...              \n",
              "10              Brownsville teen contracts Zika virus  ...              \n",
              "11  Mosquito control efforts in St  Louis take new...  ...              \n",
              "12  San Juan reports 1st U S  Zika related death a...  ...              \n",
              "13                   Flu outbreak in Galveston  Texas  ...              \n",
              "14                 Zika alert   Manila now threatened  ...              \n",
              "15                     Zika afflicts 7 in Iloilo City  ...              \n",
              "16               New Los Angeles Hairstyle goes Viral  ...              \n",
              "17                      Louisiana Zika cases up to 26  ...              \n",
              "18               Orlando volunteers aid Zika research  ...              \n",
              "19                Zika infects pregnant woman in Cebu  ...              \n",
              "20                Chicago s First Zika Case Confirmed  ...              \n",
              "21              Tampa Bay Area Zika Case Count Climbs  ...              \n",
              "22     Bad Water Leads to Sickness in Flint  Michigan  ...              \n",
              "23                     Baltimore plans for Zika virus  ...              \n",
              "24          London Health Unit Tracks Mad Cow Disease  ...              \n",
              "25     Zika cases in Vietnam s Ho Chi Minh City surge  ...       Vietnam\n",
              "26                Philadelphia experts track pandemic  ...              \n",
              "27                             Flu season hits Boston  ...              \n",
              "28            Scientists in Paris to look for answers  ...              \n",
              "29           Key Zika Findings in San Diego Institute  ...              \n",
              "30                     Thailand Zika Virus in Bangkok  ...      Thailand\n",
              "31                    Beijing team cracks Zika secret  ...              \n",
              "32                         Zika spreading to Salvador  ...              \n",
              "33                 Kuala Lumpur is Hit By Zika Threat  ...              \n",
              "34                First Zika case confirmed in Yangon  ...              \n",
              "35             Tallahassee Doctors Discuss Zika Virus  ...              \n",
              "36                   Zika Virus Reaches San Francisco  ...              \n",
              "37          New Vaccine on Trial in Bethesda District  ...              \n",
              "38                 Townsville Zika tests inconclusive  ...              \n",
              "39              Mandaluyong City under Siege by Virus  ...              \n",
              "40               Hepatitis E re emerges in Santa Rosa  ...              \n",
              "41                       Zika worries in San Salvador  ...              \n",
              "42                   Zika virus reported in Cleveland  ...              \n",
              "43              More Zika patients reported in Austin  ...              \n",
              "44                Zika outbreak in Piracicaba  Brazil  ...        Brazil\n",
              "45                Lima tries to address Zika Concerns  ...              \n",
              "46  More people in Toronto are infected with Hepat...  ...              \n",
              "47                        18 new Zika Cases in Bogota  ...              \n",
              "48                     Spanish Flu Sighted in Antigua  ...              \n",
              "49               Brisbane is infested with Meningitis  ...              \n",
              "\n",
              "[50 rows x 3 columns]"
            ]
          },
          "metadata": {
            "tags": []
          },
          "execution_count": 24
        }
      ]
    },
    {
      "cell_type": "code",
      "metadata": {
        "id": "f4vckikuwRI1",
        "colab_type": "code",
        "colab": {}
      },
      "source": [
        "# Making a list of the values found \n",
        "#country_nam = []\n",
        "#for a in data['tokenized']:\n",
        "#  for value in a:\n",
        "#    for county in country_names:\n",
        "#      if county == value:\n",
        "#        country_nam.append(county)\n",
        "      \n",
        "\n"
      ],
      "execution_count": 0,
      "outputs": []
    },
    {
      "cell_type": "code",
      "metadata": {
        "id": "KUaMhlB4fWLI",
        "colab_type": "code",
        "colab": {
          "base_uri": "https://localhost:8080/",
          "height": 54
        },
        "outputId": "31673b54-91bb-4414-f172-97965ea8f18b"
      },
      "source": [
        "#print(country_nam)"
      ],
      "execution_count": 27,
      "outputs": [
        {
          "output_type": "stream",
          "text": [
            "['Brazil', 'Vietnam', 'Thailand', 'Brazil', 'Malaysia', 'Guatemala', 'Belize', 'Brazil', 'Mexico', 'Malaysia', 'Malaysia', 'Panama', 'Singapore', 'Panama']\n"
          ],
          "name": "stdout"
        }
      ]
    },
    {
      "cell_type": "code",
      "metadata": {
        "id": "7H4njb69n16-",
        "colab_type": "code",
        "colab": {
          "base_uri": "https://localhost:8080/",
          "height": 204
        },
        "outputId": "54c3b60b-bee0-405f-90f6-2c5b921fed34"
      },
      "source": [
        "# Checking value count in the country name column\n",
        "data['country_names'].value_counts()\n"
      ],
      "execution_count": 25,
      "outputs": [
        {
          "output_type": "execute_result",
          "data": {
            "text/plain": [
              "             636\n",
              "Brazil         3\n",
              "Malaysia       3\n",
              "Panama         2\n",
              "Singapore      1\n",
              "Thailand       1\n",
              "Belize         1\n",
              "Vietnam        1\n",
              "Mexico         1\n",
              "Guatemala      1\n",
              "Name: country_names, dtype: int64"
            ]
          },
          "metadata": {
            "tags": []
          },
          "execution_count": 25
        }
      ]
    },
    {
      "cell_type": "code",
      "metadata": {
        "id": "YDOxwGvzVs-Q",
        "colab_type": "code",
        "colab": {}
      },
      "source": [
        "# Getting all the city names and saving it in the city_names columns\n",
        "data['city_names']= ''\n",
        "#i = 0\n",
        "for keys, values in data.iterrows():\n",
        "  count_ = 0\n",
        "  #i+=1\n",
        "  #print(i, j['tokenized'])\n",
        "  #print(values['tokenized'])\n",
        "  for each_word in values['tokenized']:\n",
        "    \n",
        "    \n",
        "    for countr in set(cities_names):\n",
        "      if each_word == countr:\n",
        "        if count_ == 0:\n",
        "          #print(each_word)\n",
        "          data.at[keys, 'city_names']= each_word\n",
        "          count_ += 1\n",
        "          \n",
        "        elif count_ > 0:\n",
        "          #print('Elif' ,each_word)\n",
        "          #print('ElifC' , values['city_names'] )\n",
        "          \n",
        "          data.at[keys, 'city_names']  =values['city_names'] + ' ' +  each_word \n",
        "            #count_ -=1 \n",
        "          \n",
        "        \n",
        "      #if i > 10: break\n",
        "  \n",
        "          #print(str(count_) + 'after elif cndition')\n",
        "          \n",
        "        \n",
        "        \n",
        "\n",
        "      \n"
      ],
      "execution_count": 0,
      "outputs": []
    },
    {
      "cell_type": "code",
      "metadata": {
        "id": "1PUkJiu2ppO1",
        "colab_type": "code",
        "colab": {
          "base_uri": "https://localhost:8080/",
          "height": 34
        },
        "outputId": "45df4e2e-f998-4306-df33-075515f40bc3"
      },
      "source": [
        " values['tokenized']"
      ],
      "execution_count": 40,
      "outputs": [
        {
          "output_type": "execute_result",
          "data": {
            "text/plain": [
              "['Zika', 'Outbreak', 'in', 'Wichita', 'Falls']"
            ]
          },
          "metadata": {
            "tags": []
          },
          "execution_count": 40
        }
      ]
    },
    {
      "cell_type": "code",
      "metadata": {
        "id": "J0IhE7p0QNDS",
        "colab_type": "code",
        "colab": {
          "base_uri": "https://localhost:8080/",
          "height": 221
        },
        "outputId": "77226666-78a2-455a-c4f7-2c040a77b882"
      },
      "source": [
        "data['city_names'].value_counts()"
      ],
      "execution_count": 41,
      "outputs": [
        {
          "output_type": "execute_result",
          "data": {
            "text/plain": [
              "                 129\n",
              "San               12\n",
              "Miami              7\n",
              "Monroe             4\n",
              "Madrid             4\n",
              "                ... \n",
              "Lima               1\n",
              "Villavicencio      1\n",
              "Nassau             1\n",
              "Framingham         1\n",
              "Libreville         1\n",
              "Name: city_names, Length: 462, dtype: int64"
            ]
          },
          "metadata": {
            "tags": []
          },
          "execution_count": 41
        }
      ]
    },
    {
      "cell_type": "code",
      "metadata": {
        "id": "pjJOW9OYQYyh",
        "colab_type": "code",
        "colab": {
          "base_uri": "https://localhost:8080/",
          "height": 34
        },
        "outputId": "ad79a171-c785-4438-8171-3f5068163a5a"
      },
      "source": [
        "data['city_names'][21]"
      ],
      "execution_count": 42,
      "outputs": [
        {
          "output_type": "execute_result",
          "data": {
            "text/plain": [
              "'Tampa Bay'"
            ]
          },
          "metadata": {
            "tags": []
          },
          "execution_count": 42
        }
      ]
    },
    {
      "cell_type": "code",
      "metadata": {
        "id": "dIhlDDPUQikr",
        "colab_type": "code",
        "colab": {
          "base_uri": "https://localhost:8080/",
          "height": 1000
        },
        "outputId": "a4dc0025-6eea-4036-da3e-1bfdb9fd7036"
      },
      "source": [
        "data.head(50)"
      ],
      "execution_count": 43,
      "outputs": [
        {
          "output_type": "execute_result",
          "data": {
            "text/html": [
              "<div>\n",
              "<style scoped>\n",
              "    .dataframe tbody tr th:only-of-type {\n",
              "        vertical-align: middle;\n",
              "    }\n",
              "\n",
              "    .dataframe tbody tr th {\n",
              "        vertical-align: top;\n",
              "    }\n",
              "\n",
              "    .dataframe thead th {\n",
              "        text-align: right;\n",
              "    }\n",
              "</style>\n",
              "<table border=\"1\" class=\"dataframe\">\n",
              "  <thead>\n",
              "    <tr style=\"text-align: right;\">\n",
              "      <th></th>\n",
              "      <th>headlines</th>\n",
              "      <th>tokenized</th>\n",
              "      <th>country_names</th>\n",
              "      <th>city_names</th>\n",
              "    </tr>\n",
              "  </thead>\n",
              "  <tbody>\n",
              "    <tr>\n",
              "      <th>0</th>\n",
              "      <td>Zika Outbreak Hits Miami</td>\n",
              "      <td>[Zika, Outbreak, Hits, Miami]</td>\n",
              "      <td></td>\n",
              "      <td>Miami</td>\n",
              "    </tr>\n",
              "    <tr>\n",
              "      <th>1</th>\n",
              "      <td>Could Zika Reach New York City</td>\n",
              "      <td>[Could, Zika, Reach, New, York, City]</td>\n",
              "      <td></td>\n",
              "      <td>York</td>\n",
              "    </tr>\n",
              "    <tr>\n",
              "      <th>2</th>\n",
              "      <td>First Case of Zika in Miami Beach</td>\n",
              "      <td>[First, Case, of, Zika, in, Miami, Beach]</td>\n",
              "      <td></td>\n",
              "      <td>Miami</td>\n",
              "    </tr>\n",
              "    <tr>\n",
              "      <th>3</th>\n",
              "      <td>Mystery Virus Spreads in Recife  Brazil</td>\n",
              "      <td>[Mystery, Virus, Spreads, in, Recife, Brazil]</td>\n",
              "      <td>Brazil</td>\n",
              "      <td>Recife</td>\n",
              "    </tr>\n",
              "    <tr>\n",
              "      <th>4</th>\n",
              "      <td>Dallas man comes down with case of Zika</td>\n",
              "      <td>[Dallas, man, comes, down, with, case, of, Zika]</td>\n",
              "      <td></td>\n",
              "      <td>Dallas</td>\n",
              "    </tr>\n",
              "    <tr>\n",
              "      <th>5</th>\n",
              "      <td>Trinidad confirms first Zika case</td>\n",
              "      <td>[Trinidad, confirms, first, Zika, case]</td>\n",
              "      <td></td>\n",
              "      <td>Trinidad</td>\n",
              "    </tr>\n",
              "    <tr>\n",
              "      <th>6</th>\n",
              "      <td>Zika Concerns are Spreading in Houston</td>\n",
              "      <td>[Zika, Concerns, are, Spreading, in, Houston]</td>\n",
              "      <td></td>\n",
              "      <td>Houston</td>\n",
              "    </tr>\n",
              "    <tr>\n",
              "      <th>7</th>\n",
              "      <td>Geneve Scientists Battle to Find Cure</td>\n",
              "      <td>[Geneve, Scientists, Battle, to, Find, Cure]</td>\n",
              "      <td></td>\n",
              "      <td></td>\n",
              "    </tr>\n",
              "    <tr>\n",
              "      <th>8</th>\n",
              "      <td>The CDC in Atlanta is Growing Worried</td>\n",
              "      <td>[The, CDC, in, Atlanta, is, Growing, Worried]</td>\n",
              "      <td></td>\n",
              "      <td>Atlanta</td>\n",
              "    </tr>\n",
              "    <tr>\n",
              "      <th>9</th>\n",
              "      <td>Zika Infested Monkeys in Sao Paulo</td>\n",
              "      <td>[Zika, Infested, Monkeys, in, Sao, Paulo]</td>\n",
              "      <td></td>\n",
              "      <td></td>\n",
              "    </tr>\n",
              "    <tr>\n",
              "      <th>10</th>\n",
              "      <td>Brownsville teen contracts Zika virus</td>\n",
              "      <td>[Brownsville, teen, contracts, Zika, virus]</td>\n",
              "      <td></td>\n",
              "      <td>Brownsville</td>\n",
              "    </tr>\n",
              "    <tr>\n",
              "      <th>11</th>\n",
              "      <td>Mosquito control efforts in St  Louis take new...</td>\n",
              "      <td>[Mosquito, control, efforts, in, St, Louis, ta...</td>\n",
              "      <td></td>\n",
              "      <td></td>\n",
              "    </tr>\n",
              "    <tr>\n",
              "      <th>12</th>\n",
              "      <td>San Juan reports 1st U S  Zika related death a...</td>\n",
              "      <td>[San, Juan, reports, 1st, U, S, Zika, related,...</td>\n",
              "      <td></td>\n",
              "      <td>San</td>\n",
              "    </tr>\n",
              "    <tr>\n",
              "      <th>13</th>\n",
              "      <td>Flu outbreak in Galveston  Texas</td>\n",
              "      <td>[Flu, outbreak, in, Galveston, Texas]</td>\n",
              "      <td></td>\n",
              "      <td>Galveston</td>\n",
              "    </tr>\n",
              "    <tr>\n",
              "      <th>14</th>\n",
              "      <td>Zika alert   Manila now threatened</td>\n",
              "      <td>[Zika, alert, Manila, now, threatened]</td>\n",
              "      <td></td>\n",
              "      <td>Manila</td>\n",
              "    </tr>\n",
              "    <tr>\n",
              "      <th>15</th>\n",
              "      <td>Zika afflicts 7 in Iloilo City</td>\n",
              "      <td>[Zika, afflicts, 7, in, Iloilo, City]</td>\n",
              "      <td></td>\n",
              "      <td>Iloilo</td>\n",
              "    </tr>\n",
              "    <tr>\n",
              "      <th>16</th>\n",
              "      <td>New Los Angeles Hairstyle goes Viral</td>\n",
              "      <td>[New, Los, Angeles, Hairstyle, goes, Viral]</td>\n",
              "      <td></td>\n",
              "      <td></td>\n",
              "    </tr>\n",
              "    <tr>\n",
              "      <th>17</th>\n",
              "      <td>Louisiana Zika cases up to 26</td>\n",
              "      <td>[Louisiana, Zika, cases, up, to, 26]</td>\n",
              "      <td></td>\n",
              "      <td></td>\n",
              "    </tr>\n",
              "    <tr>\n",
              "      <th>18</th>\n",
              "      <td>Orlando volunteers aid Zika research</td>\n",
              "      <td>[Orlando, volunteers, aid, Zika, research]</td>\n",
              "      <td></td>\n",
              "      <td>Orlando</td>\n",
              "    </tr>\n",
              "    <tr>\n",
              "      <th>19</th>\n",
              "      <td>Zika infects pregnant woman in Cebu</td>\n",
              "      <td>[Zika, infects, pregnant, woman, in, Cebu]</td>\n",
              "      <td></td>\n",
              "      <td></td>\n",
              "    </tr>\n",
              "    <tr>\n",
              "      <th>20</th>\n",
              "      <td>Chicago s First Zika Case Confirmed</td>\n",
              "      <td>[Chicago, s, First, Zika, Case, Confirmed]</td>\n",
              "      <td></td>\n",
              "      <td>Chicago</td>\n",
              "    </tr>\n",
              "    <tr>\n",
              "      <th>21</th>\n",
              "      <td>Tampa Bay Area Zika Case Count Climbs</td>\n",
              "      <td>[Tampa, Bay, Area, Zika, Case, Count, Climbs]</td>\n",
              "      <td></td>\n",
              "      <td>Tampa Bay</td>\n",
              "    </tr>\n",
              "    <tr>\n",
              "      <th>22</th>\n",
              "      <td>Bad Water Leads to Sickness in Flint  Michigan</td>\n",
              "      <td>[Bad, Water, Leads, to, Sickness, in, Flint, M...</td>\n",
              "      <td></td>\n",
              "      <td>Flint</td>\n",
              "    </tr>\n",
              "    <tr>\n",
              "      <th>23</th>\n",
              "      <td>Baltimore plans for Zika virus</td>\n",
              "      <td>[Baltimore, plans, for, Zika, virus]</td>\n",
              "      <td></td>\n",
              "      <td>Baltimore</td>\n",
              "    </tr>\n",
              "    <tr>\n",
              "      <th>24</th>\n",
              "      <td>London Health Unit Tracks Mad Cow Disease</td>\n",
              "      <td>[London, Health, Unit, Tracks, Mad, Cow, Disease]</td>\n",
              "      <td></td>\n",
              "      <td>London</td>\n",
              "    </tr>\n",
              "    <tr>\n",
              "      <th>25</th>\n",
              "      <td>Zika cases in Vietnam s Ho Chi Minh City surge</td>\n",
              "      <td>[Zika, cases, in, Vietnam, s, Ho, Chi, Minh, C...</td>\n",
              "      <td>Vietnam</td>\n",
              "      <td>Ho</td>\n",
              "    </tr>\n",
              "    <tr>\n",
              "      <th>26</th>\n",
              "      <td>Philadelphia experts track pandemic</td>\n",
              "      <td>[Philadelphia, experts, track, pandemic]</td>\n",
              "      <td></td>\n",
              "      <td>Philadelphia</td>\n",
              "    </tr>\n",
              "    <tr>\n",
              "      <th>27</th>\n",
              "      <td>Flu season hits Boston</td>\n",
              "      <td>[Flu, season, hits, Boston]</td>\n",
              "      <td></td>\n",
              "      <td>Boston</td>\n",
              "    </tr>\n",
              "    <tr>\n",
              "      <th>28</th>\n",
              "      <td>Scientists in Paris to look for answers</td>\n",
              "      <td>[Scientists, in, Paris, to, look, for, answers]</td>\n",
              "      <td></td>\n",
              "      <td>Paris</td>\n",
              "    </tr>\n",
              "    <tr>\n",
              "      <th>29</th>\n",
              "      <td>Key Zika Findings in San Diego Institute</td>\n",
              "      <td>[Key, Zika, Findings, in, San, Diego, Institute]</td>\n",
              "      <td></td>\n",
              "      <td>San</td>\n",
              "    </tr>\n",
              "    <tr>\n",
              "      <th>30</th>\n",
              "      <td>Thailand Zika Virus in Bangkok</td>\n",
              "      <td>[Thailand, Zika, Virus, in, Bangkok]</td>\n",
              "      <td>Thailand</td>\n",
              "      <td>Bangkok</td>\n",
              "    </tr>\n",
              "    <tr>\n",
              "      <th>31</th>\n",
              "      <td>Beijing team cracks Zika secret</td>\n",
              "      <td>[Beijing, team, cracks, Zika, secret]</td>\n",
              "      <td></td>\n",
              "      <td>Beijing</td>\n",
              "    </tr>\n",
              "    <tr>\n",
              "      <th>32</th>\n",
              "      <td>Zika spreading to Salvador</td>\n",
              "      <td>[Zika, spreading, to, Salvador]</td>\n",
              "      <td></td>\n",
              "      <td>Salvador</td>\n",
              "    </tr>\n",
              "    <tr>\n",
              "      <th>33</th>\n",
              "      <td>Kuala Lumpur is Hit By Zika Threat</td>\n",
              "      <td>[Kuala, Lumpur, is, Hit, By, Zika, Threat]</td>\n",
              "      <td></td>\n",
              "      <td></td>\n",
              "    </tr>\n",
              "    <tr>\n",
              "      <th>34</th>\n",
              "      <td>First Zika case confirmed in Yangon</td>\n",
              "      <td>[First, Zika, case, confirmed, in, Yangon]</td>\n",
              "      <td></td>\n",
              "      <td>Yangon</td>\n",
              "    </tr>\n",
              "    <tr>\n",
              "      <th>35</th>\n",
              "      <td>Tallahassee Doctors Discuss Zika Virus</td>\n",
              "      <td>[Tallahassee, Doctors, Discuss, Zika, Virus]</td>\n",
              "      <td></td>\n",
              "      <td>Tallahassee</td>\n",
              "    </tr>\n",
              "    <tr>\n",
              "      <th>36</th>\n",
              "      <td>Zika Virus Reaches San Francisco</td>\n",
              "      <td>[Zika, Virus, Reaches, San, Francisco]</td>\n",
              "      <td></td>\n",
              "      <td>San</td>\n",
              "    </tr>\n",
              "    <tr>\n",
              "      <th>37</th>\n",
              "      <td>New Vaccine on Trial in Bethesda District</td>\n",
              "      <td>[New, Vaccine, on, Trial, in, Bethesda, District]</td>\n",
              "      <td></td>\n",
              "      <td>Bethesda</td>\n",
              "    </tr>\n",
              "    <tr>\n",
              "      <th>38</th>\n",
              "      <td>Townsville Zika tests inconclusive</td>\n",
              "      <td>[Townsville, Zika, tests, inconclusive]</td>\n",
              "      <td></td>\n",
              "      <td>Townsville</td>\n",
              "    </tr>\n",
              "    <tr>\n",
              "      <th>39</th>\n",
              "      <td>Mandaluyong City under Siege by Virus</td>\n",
              "      <td>[Mandaluyong, City, under, Siege, by, Virus]</td>\n",
              "      <td></td>\n",
              "      <td></td>\n",
              "    </tr>\n",
              "    <tr>\n",
              "      <th>40</th>\n",
              "      <td>Hepatitis E re emerges in Santa Rosa</td>\n",
              "      <td>[Hepatitis, E, re, emerges, in, Santa, Rosa]</td>\n",
              "      <td></td>\n",
              "      <td></td>\n",
              "    </tr>\n",
              "    <tr>\n",
              "      <th>41</th>\n",
              "      <td>Zika worries in San Salvador</td>\n",
              "      <td>[Zika, worries, in, San, Salvador]</td>\n",
              "      <td></td>\n",
              "      <td>San Salvador</td>\n",
              "    </tr>\n",
              "    <tr>\n",
              "      <th>42</th>\n",
              "      <td>Zika virus reported in Cleveland</td>\n",
              "      <td>[Zika, virus, reported, in, Cleveland]</td>\n",
              "      <td></td>\n",
              "      <td>Cleveland</td>\n",
              "    </tr>\n",
              "    <tr>\n",
              "      <th>43</th>\n",
              "      <td>More Zika patients reported in Austin</td>\n",
              "      <td>[More, Zika, patients, reported, in, Austin]</td>\n",
              "      <td></td>\n",
              "      <td>Austin</td>\n",
              "    </tr>\n",
              "    <tr>\n",
              "      <th>44</th>\n",
              "      <td>Zika outbreak in Piracicaba  Brazil</td>\n",
              "      <td>[Zika, outbreak, in, Piracicaba, Brazil]</td>\n",
              "      <td>Brazil</td>\n",
              "      <td>Piracicaba</td>\n",
              "    </tr>\n",
              "    <tr>\n",
              "      <th>45</th>\n",
              "      <td>Lima tries to address Zika Concerns</td>\n",
              "      <td>[Lima, tries, to, address, Zika, Concerns]</td>\n",
              "      <td></td>\n",
              "      <td>Lima</td>\n",
              "    </tr>\n",
              "    <tr>\n",
              "      <th>46</th>\n",
              "      <td>More people in Toronto are infected with Hepat...</td>\n",
              "      <td>[More, people, in, Toronto, are, infected, wit...</td>\n",
              "      <td></td>\n",
              "      <td>Toronto</td>\n",
              "    </tr>\n",
              "    <tr>\n",
              "      <th>47</th>\n",
              "      <td>18 new Zika Cases in Bogota</td>\n",
              "      <td>[18, new, Zika, Cases, in, Bogota]</td>\n",
              "      <td></td>\n",
              "      <td></td>\n",
              "    </tr>\n",
              "    <tr>\n",
              "      <th>48</th>\n",
              "      <td>Spanish Flu Sighted in Antigua</td>\n",
              "      <td>[Spanish, Flu, Sighted, in, Antigua]</td>\n",
              "      <td></td>\n",
              "      <td></td>\n",
              "    </tr>\n",
              "    <tr>\n",
              "      <th>49</th>\n",
              "      <td>Brisbane is infested with Meningitis</td>\n",
              "      <td>[Brisbane, is, infested, with, Meningitis]</td>\n",
              "      <td></td>\n",
              "      <td>Brisbane</td>\n",
              "    </tr>\n",
              "  </tbody>\n",
              "</table>\n",
              "</div>"
            ],
            "text/plain": [
              "                                            headlines  ...    city_names\n",
              "0                            Zika Outbreak Hits Miami  ...         Miami\n",
              "1                     Could Zika Reach New York City   ...          York\n",
              "2                   First Case of Zika in Miami Beach  ...         Miami\n",
              "3             Mystery Virus Spreads in Recife  Brazil  ...        Recife\n",
              "4             Dallas man comes down with case of Zika  ...        Dallas\n",
              "5                   Trinidad confirms first Zika case  ...      Trinidad\n",
              "6              Zika Concerns are Spreading in Houston  ...       Houston\n",
              "7               Geneve Scientists Battle to Find Cure  ...              \n",
              "8               The CDC in Atlanta is Growing Worried  ...       Atlanta\n",
              "9                  Zika Infested Monkeys in Sao Paulo  ...              \n",
              "10              Brownsville teen contracts Zika virus  ...   Brownsville\n",
              "11  Mosquito control efforts in St  Louis take new...  ...              \n",
              "12  San Juan reports 1st U S  Zika related death a...  ...           San\n",
              "13                   Flu outbreak in Galveston  Texas  ...     Galveston\n",
              "14                 Zika alert   Manila now threatened  ...        Manila\n",
              "15                     Zika afflicts 7 in Iloilo City  ...        Iloilo\n",
              "16               New Los Angeles Hairstyle goes Viral  ...              \n",
              "17                      Louisiana Zika cases up to 26  ...              \n",
              "18               Orlando volunteers aid Zika research  ...       Orlando\n",
              "19                Zika infects pregnant woman in Cebu  ...              \n",
              "20                Chicago s First Zika Case Confirmed  ...       Chicago\n",
              "21              Tampa Bay Area Zika Case Count Climbs  ...     Tampa Bay\n",
              "22     Bad Water Leads to Sickness in Flint  Michigan  ...         Flint\n",
              "23                     Baltimore plans for Zika virus  ...     Baltimore\n",
              "24          London Health Unit Tracks Mad Cow Disease  ...        London\n",
              "25     Zika cases in Vietnam s Ho Chi Minh City surge  ...            Ho\n",
              "26                Philadelphia experts track pandemic  ...  Philadelphia\n",
              "27                             Flu season hits Boston  ...        Boston\n",
              "28            Scientists in Paris to look for answers  ...         Paris\n",
              "29           Key Zika Findings in San Diego Institute  ...           San\n",
              "30                     Thailand Zika Virus in Bangkok  ...       Bangkok\n",
              "31                    Beijing team cracks Zika secret  ...       Beijing\n",
              "32                         Zika spreading to Salvador  ...      Salvador\n",
              "33                 Kuala Lumpur is Hit By Zika Threat  ...              \n",
              "34                First Zika case confirmed in Yangon  ...        Yangon\n",
              "35             Tallahassee Doctors Discuss Zika Virus  ...   Tallahassee\n",
              "36                   Zika Virus Reaches San Francisco  ...           San\n",
              "37          New Vaccine on Trial in Bethesda District  ...      Bethesda\n",
              "38                 Townsville Zika tests inconclusive  ...    Townsville\n",
              "39              Mandaluyong City under Siege by Virus  ...              \n",
              "40               Hepatitis E re emerges in Santa Rosa  ...              \n",
              "41                       Zika worries in San Salvador  ...  San Salvador\n",
              "42                   Zika virus reported in Cleveland  ...     Cleveland\n",
              "43              More Zika patients reported in Austin  ...        Austin\n",
              "44                Zika outbreak in Piracicaba  Brazil  ...    Piracicaba\n",
              "45                Lima tries to address Zika Concerns  ...          Lima\n",
              "46  More people in Toronto are infected with Hepat...  ...       Toronto\n",
              "47                        18 new Zika Cases in Bogota  ...              \n",
              "48                     Spanish Flu Sighted in Antigua  ...              \n",
              "49               Brisbane is infested with Meningitis  ...      Brisbane\n",
              "\n",
              "[50 rows x 4 columns]"
            ]
          },
          "metadata": {
            "tags": []
          },
          "execution_count": 43
        }
      ]
    },
    {
      "cell_type": "code",
      "metadata": {
        "id": "sUF6uIdxQz0_",
        "colab_type": "code",
        "colab": {
          "base_uri": "https://localhost:8080/",
          "height": 34
        },
        "outputId": "31e7934c-24cf-454b-dde9-204e582786b2"
      },
      "source": [
        "data['headlines'][5]"
      ],
      "execution_count": 35,
      "outputs": [
        {
          "output_type": "execute_result",
          "data": {
            "text/plain": [
              "'Trinidad confirms first Zika case'"
            ]
          },
          "metadata": {
            "tags": []
          },
          "execution_count": 35
        }
      ]
    },
    {
      "cell_type": "code",
      "metadata": {
        "id": "k8ri6yttUacF",
        "colab_type": "code",
        "colab": {
          "base_uri": "https://localhost:8080/",
          "height": 34
        },
        "outputId": "5cbc2091-09aa-4e0e-e885-fb9ef4026cce"
      },
      "source": [
        "data['city_names'][159]"
      ],
      "execution_count": 36,
      "outputs": [
        {
          "output_type": "execute_result",
          "data": {
            "text/plain": [
              "'Belmont,Belmont'"
            ]
          },
          "metadata": {
            "tags": []
          },
          "execution_count": 36
        }
      ]
    },
    {
      "cell_type": "code",
      "metadata": {
        "id": "FxnMAtdWivgC",
        "colab_type": "code",
        "colab": {
          "base_uri": "https://localhost:8080/",
          "height": 204
        },
        "outputId": "1921848f-4d33-4a2d-c84f-0d48ee1a1796"
      },
      "source": [
        "data.iloc[153:158]\n"
      ],
      "execution_count": 37,
      "outputs": [
        {
          "output_type": "execute_result",
          "data": {
            "text/html": [
              "<div>\n",
              "<style scoped>\n",
              "    .dataframe tbody tr th:only-of-type {\n",
              "        vertical-align: middle;\n",
              "    }\n",
              "\n",
              "    .dataframe tbody tr th {\n",
              "        vertical-align: top;\n",
              "    }\n",
              "\n",
              "    .dataframe thead th {\n",
              "        text-align: right;\n",
              "    }\n",
              "</style>\n",
              "<table border=\"1\" class=\"dataframe\">\n",
              "  <thead>\n",
              "    <tr style=\"text-align: right;\">\n",
              "      <th></th>\n",
              "      <th>headlines</th>\n",
              "      <th>tokenized</th>\n",
              "      <th>country_names</th>\n",
              "      <th>city_names</th>\n",
              "    </tr>\n",
              "  </thead>\n",
              "  <tbody>\n",
              "    <tr>\n",
              "      <th>153</th>\n",
              "      <td>Rumors about Rotavirus spreading in Huntsville...</td>\n",
              "      <td>[Rumors, about, Rotavirus, spreading, in, Hunt...</td>\n",
              "      <td></td>\n",
              "      <td>Huntsville</td>\n",
              "    </tr>\n",
              "    <tr>\n",
              "      <th>154</th>\n",
              "      <td>Rhinovirus has Arrived in Athens</td>\n",
              "      <td>[Rhinovirus, has, Arrived, in, Athens]</td>\n",
              "      <td></td>\n",
              "      <td>Athens</td>\n",
              "    </tr>\n",
              "    <tr>\n",
              "      <th>155</th>\n",
              "      <td>Outbreak of Zika in Panama City</td>\n",
              "      <td>[Outbreak, of, Zika, in, Panama, City]</td>\n",
              "      <td>Panama</td>\n",
              "      <td></td>\n",
              "    </tr>\n",
              "    <tr>\n",
              "      <th>156</th>\n",
              "      <td>West Nile Virus Outbreak in Saint Johns</td>\n",
              "      <td>[West, Nile, Virus, Outbreak, in, Saint, Johns]</td>\n",
              "      <td></td>\n",
              "      <td></td>\n",
              "    </tr>\n",
              "    <tr>\n",
              "      <th>157</th>\n",
              "      <td>Measles has not Left Brooklyn</td>\n",
              "      <td>[Measles, has, not, Left, Brooklyn]</td>\n",
              "      <td></td>\n",
              "      <td>Brooklyn</td>\n",
              "    </tr>\n",
              "  </tbody>\n",
              "</table>\n",
              "</div>"
            ],
            "text/plain": [
              "                                             headlines  ...  city_names\n",
              "153  Rumors about Rotavirus spreading in Huntsville...  ...  Huntsville\n",
              "154                   Rhinovirus has Arrived in Athens  ...      Athens\n",
              "155                    Outbreak of Zika in Panama City  ...            \n",
              "156            West Nile Virus Outbreak in Saint Johns  ...            \n",
              "157                      Measles has not Left Brooklyn  ...    Brooklyn\n",
              "\n",
              "[5 rows x 4 columns]"
            ]
          },
          "metadata": {
            "tags": []
          },
          "execution_count": 37
        }
      ]
    },
    {
      "cell_type": "code",
      "metadata": {
        "id": "A2e3dbTAvebI",
        "colab_type": "code",
        "colab": {
          "base_uri": "https://localhost:8080/",
          "height": 34
        },
        "outputId": "a303a8a7-5c5f-4572-f9cb-b6e8bf3d97ea"
      },
      "source": [
        "gc.get_cities_by_name('Bogota')"
      ],
      "execution_count": 44,
      "outputs": [
        {
          "output_type": "execute_result",
          "data": {
            "text/plain": [
              "[]"
            ]
          },
          "metadata": {
            "tags": []
          },
          "execution_count": 44
        }
      ]
    },
    {
      "cell_type": "code",
      "metadata": {
        "id": "j5umTW1bN0h5",
        "colab_type": "code",
        "colab": {}
      },
      "source": [
        ""
      ],
      "execution_count": 0,
      "outputs": []
    }
  ]
}