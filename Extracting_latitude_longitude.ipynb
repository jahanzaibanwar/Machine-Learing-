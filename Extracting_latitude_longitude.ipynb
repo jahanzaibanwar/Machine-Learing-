{
  "nbformat": 4,
  "nbformat_minor": 0,
  "metadata": {
    "colab": {
      "name": "Extracting_latitude_longitude",
      "provenance": [],
      "collapsed_sections": []
    },
    "kernelspec": {
      "name": "python3",
      "display_name": "Python 3"
    },
    "accelerator": "TPU"
  },
  "cells": [
    {
      "cell_type": "markdown",
      "metadata": {
        "id": "IaGOI8nswIvQ",
        "colab_type": "text"
      },
      "source": [
        "# Extracting latitude and longitude.\n",
        "In this section i will extract the latitude, longitude and country code using Geonamecache. \n",
        "This is the second part of the project discovering the diseases in different cities. In  the previous section i extracted the cities and countries and observed that there are many missing values in the countries column. This is mainly the reason that the news data have more infromation about the diseases in the cities rather than the countries. I can still extract the countries just by using the city name, but in this notebook i will stick with the data for the cities and i will drop the countries. Also there are many cities that are in mulitple countries in that case we can just stick with the first choice that comes from the geonamecache module but only if there is no information given about the country. "
      ]
    },
    {
      "cell_type": "markdown",
      "metadata": {
        "id": "H_8eFok1x7BC",
        "colab_type": "text"
      },
      "source": [
        "# Work Flow \n",
        "1.   Loading all the required modeules\n",
        "2.   Loading the data that we have extracted in the last section.\n",
        "3.   Extracting the longitude, latitude and country code using geonamecahe.\n",
        "4.   Saving longitude, latitude and country code in the dataframe\n",
        "5.   Droping the countries column because there are lots of values that are missing.\n",
        "6.   Inspecting some extracted data to check all the values are correct.\n",
        " \n",
        "\n",
        "\n",
        "\n"
      ]
    },
    {
      "cell_type": "markdown",
      "metadata": {
        "id": "pY88BSIGzD-W",
        "colab_type": "text"
      },
      "source": [
        "# Importing all the libraries."
      ]
    },
    {
      "cell_type": "code",
      "metadata": {
        "id": "1xnQvZNivOU9",
        "colab_type": "code",
        "outputId": "9f4c557a-13f7-4b56-dd43-2cf104e1a200",
        "colab": {
          "base_uri": "https://localhost:8080/",
          "height": 51
        }
      },
      "source": [
        "# Importing all the module\n",
        "import pandas as pd\n",
        "import numpy as np\n",
        "import matplotlib.pyplot as plt\n",
        "!pip install unidecode\n",
        "import re\n",
        "!pip install geonamescache\n",
        "import geonamescache \n",
        "from nltk.tokenize import RegexpTokenizer\n",
        "from unidecode import unidecode\n",
        "from geonamescache import GeonamesCache\n"
      ],
      "execution_count": 1,
      "outputs": [
        {
          "output_type": "stream",
          "text": [
            "Requirement already satisfied: unidecode in /usr/local/lib/python3.6/dist-packages (1.1.1)\n",
            "Requirement already satisfied: geonamescache in /usr/local/lib/python3.6/dist-packages (1.1.0)\n"
          ],
          "name": "stdout"
        }
      ]
    },
    {
      "cell_type": "markdown",
      "metadata": {
        "id": "PpStPssJzOu6",
        "colab_type": "text"
      },
      "source": [
        "# Loading the dataset."
      ]
    },
    {
      "cell_type": "code",
      "metadata": {
        "id": "hBfgTCSOws7G",
        "colab_type": "code",
        "colab": {}
      },
      "source": [
        "data = pd.read_json(\"headline_cities_and_countries.json\")"
      ],
      "execution_count": 0,
      "outputs": []
    },
    {
      "cell_type": "code",
      "metadata": {
        "id": "cbJD7cI3xiBG",
        "colab_type": "code",
        "colab": {}
      },
      "source": [
        "#american = data['cities'] == \"Can\"\n",
        "#data[american]"
      ],
      "execution_count": 0,
      "outputs": []
    },
    {
      "cell_type": "code",
      "metadata": {
        "id": "_th4V_7txjWh",
        "colab_type": "code",
        "outputId": "76c8b1f3-92de-4090-8cd9-e8041f47b0e9",
        "colab": {
          "base_uri": "https://localhost:8080/",
          "height": 1000
        }
      },
      "source": [
        "\n",
        "data.tail(33)"
      ],
      "execution_count": 15,
      "outputs": [
        {
          "output_type": "execute_result",
          "data": {
            "text/html": [
              "<div>\n",
              "<style scoped>\n",
              "    .dataframe tbody tr th:only-of-type {\n",
              "        vertical-align: middle;\n",
              "    }\n",
              "\n",
              "    .dataframe tbody tr th {\n",
              "        vertical-align: top;\n",
              "    }\n",
              "\n",
              "    .dataframe thead th {\n",
              "        text-align: right;\n",
              "    }\n",
              "</style>\n",
              "<table border=\"1\" class=\"dataframe\">\n",
              "  <thead>\n",
              "    <tr style=\"text-align: right;\">\n",
              "      <th></th>\n",
              "      <th>headline</th>\n",
              "      <th>countries</th>\n",
              "      <th>cities</th>\n",
              "    </tr>\n",
              "  </thead>\n",
              "  <tbody>\n",
              "    <tr>\n",
              "      <th>617</th>\n",
              "      <td>Mad Cow Disease Detected in Lyon</td>\n",
              "      <td>None</td>\n",
              "      <td>Lyon</td>\n",
              "    </tr>\n",
              "    <tr>\n",
              "      <th>618</th>\n",
              "      <td>Memphis Encounters Severe Symptoms of Swine Flu</td>\n",
              "      <td>None</td>\n",
              "      <td>Memphis</td>\n",
              "    </tr>\n",
              "    <tr>\n",
              "      <th>619</th>\n",
              "      <td>Zika Troubles come to Delray Beach</td>\n",
              "      <td>None</td>\n",
              "      <td>Delray Beach</td>\n",
              "    </tr>\n",
              "    <tr>\n",
              "      <th>620</th>\n",
              "      <td>How to Avoid Chikungunya in Hampton</td>\n",
              "      <td>None</td>\n",
              "      <td>Hampton</td>\n",
              "    </tr>\n",
              "    <tr>\n",
              "      <th>621</th>\n",
              "      <td>Zika Reported in Sao Jose</td>\n",
              "      <td>None</td>\n",
              "      <td>Sao Jose</td>\n",
              "    </tr>\n",
              "    <tr>\n",
              "      <th>622</th>\n",
              "      <td>Case of Norovirus Reported in Stratford</td>\n",
              "      <td>None</td>\n",
              "      <td>Stratford</td>\n",
              "    </tr>\n",
              "    <tr>\n",
              "      <th>623</th>\n",
              "      <td>How to Avoid Hepatitis E in South Bend</td>\n",
              "      <td>None</td>\n",
              "      <td>South Bend</td>\n",
              "    </tr>\n",
              "    <tr>\n",
              "      <th>624</th>\n",
              "      <td>Hepatitis C Outbreak in Bethlehem</td>\n",
              "      <td>None</td>\n",
              "      <td>Bethlehem</td>\n",
              "    </tr>\n",
              "    <tr>\n",
              "      <th>625</th>\n",
              "      <td>Davenport is infested with Dengue</td>\n",
              "      <td>None</td>\n",
              "      <td>Davenport</td>\n",
              "    </tr>\n",
              "    <tr>\n",
              "      <th>626</th>\n",
              "      <td>Rumors about Swine Flu spreading in Suzhou hav...</td>\n",
              "      <td>None</td>\n",
              "      <td>Suzhou</td>\n",
              "    </tr>\n",
              "    <tr>\n",
              "      <th>627</th>\n",
              "      <td>Malaria Vaccine is now Required in Elyria</td>\n",
              "      <td>None</td>\n",
              "      <td>Elyria</td>\n",
              "    </tr>\n",
              "    <tr>\n",
              "      <th>628</th>\n",
              "      <td>Zika case reported in Antioquia</td>\n",
              "      <td>None</td>\n",
              "      <td>None</td>\n",
              "    </tr>\n",
              "    <tr>\n",
              "      <th>629</th>\n",
              "      <td>Case of Swine Flu Reported in Tbilisi</td>\n",
              "      <td>None</td>\n",
              "      <td>Tbilisi</td>\n",
              "    </tr>\n",
              "    <tr>\n",
              "      <th>630</th>\n",
              "      <td>Chikungunya has not Left Pismo Beach</td>\n",
              "      <td>None</td>\n",
              "      <td>None</td>\n",
              "    </tr>\n",
              "    <tr>\n",
              "      <th>631</th>\n",
              "      <td>Zika spreads to La Joya</td>\n",
              "      <td>None</td>\n",
              "      <td>None</td>\n",
              "    </tr>\n",
              "    <tr>\n",
              "      <th>632</th>\n",
              "      <td>Influenza Keeps Spreading in Suffolk</td>\n",
              "      <td>None</td>\n",
              "      <td>Suffolk</td>\n",
              "    </tr>\n",
              "    <tr>\n",
              "      <th>633</th>\n",
              "      <td>More people in Allentown are infected with Chl...</td>\n",
              "      <td>None</td>\n",
              "      <td>Allentown</td>\n",
              "    </tr>\n",
              "    <tr>\n",
              "      <th>634</th>\n",
              "      <td>Mad Cow Disease re-emerges in Bedford</td>\n",
              "      <td>None</td>\n",
              "      <td>Bedford</td>\n",
              "    </tr>\n",
              "    <tr>\n",
              "      <th>635</th>\n",
              "      <td>Authorities are Worried about the Spread of He...</td>\n",
              "      <td>None</td>\n",
              "      <td>Yiwu</td>\n",
              "    </tr>\n",
              "    <tr>\n",
              "      <th>636</th>\n",
              "      <td>Zika Outbreak in Yurimaguas</td>\n",
              "      <td>None</td>\n",
              "      <td>Yurimaguas</td>\n",
              "    </tr>\n",
              "    <tr>\n",
              "      <th>637</th>\n",
              "      <td>Dengue Outbreak in Easton</td>\n",
              "      <td>None</td>\n",
              "      <td>Easton</td>\n",
              "    </tr>\n",
              "    <tr>\n",
              "      <th>638</th>\n",
              "      <td>Varicella has Arrived in Milton</td>\n",
              "      <td>None</td>\n",
              "      <td>Milton</td>\n",
              "    </tr>\n",
              "    <tr>\n",
              "      <th>639</th>\n",
              "      <td>New medicine wipes out Meningitis in Sevilla</td>\n",
              "      <td>None</td>\n",
              "      <td>Sevilla</td>\n",
              "    </tr>\n",
              "    <tr>\n",
              "      <th>640</th>\n",
              "      <td>Authorities are Worried about the Spread of Va...</td>\n",
              "      <td>None</td>\n",
              "      <td>Clovis</td>\n",
              "    </tr>\n",
              "    <tr>\n",
              "      <th>641</th>\n",
              "      <td>More Zika patients reported in Fort Worth</td>\n",
              "      <td>None</td>\n",
              "      <td>Fort Worth</td>\n",
              "    </tr>\n",
              "    <tr>\n",
              "      <th>642</th>\n",
              "      <td>Zika symptoms spotted in Boynton Beach</td>\n",
              "      <td>None</td>\n",
              "      <td>Boynton Beach</td>\n",
              "    </tr>\n",
              "    <tr>\n",
              "      <th>643</th>\n",
              "      <td>Outbreak of Zika in Portoviejo</td>\n",
              "      <td>None</td>\n",
              "      <td>Portoviejo</td>\n",
              "    </tr>\n",
              "    <tr>\n",
              "      <th>644</th>\n",
              "      <td>Influenza Exposure in Muscat</td>\n",
              "      <td>None</td>\n",
              "      <td>Muscat</td>\n",
              "    </tr>\n",
              "    <tr>\n",
              "      <th>645</th>\n",
              "      <td>Rumors about Rabies spreading in Jerusalem hav...</td>\n",
              "      <td>None</td>\n",
              "      <td>Jerusalem</td>\n",
              "    </tr>\n",
              "    <tr>\n",
              "      <th>646</th>\n",
              "      <td>More Zika patients reported in Indang</td>\n",
              "      <td>None</td>\n",
              "      <td>Indang</td>\n",
              "    </tr>\n",
              "    <tr>\n",
              "      <th>647</th>\n",
              "      <td>Suva authorities confirmed the spread of Rotav...</td>\n",
              "      <td>None</td>\n",
              "      <td>Suva</td>\n",
              "    </tr>\n",
              "    <tr>\n",
              "      <th>648</th>\n",
              "      <td>More Zika patients reported in Bella Vista</td>\n",
              "      <td>None</td>\n",
              "      <td>Bella Vista</td>\n",
              "    </tr>\n",
              "    <tr>\n",
              "      <th>649</th>\n",
              "      <td>Zika Outbreak in Wichita Falls</td>\n",
              "      <td>None</td>\n",
              "      <td>Wichita Falls</td>\n",
              "    </tr>\n",
              "  </tbody>\n",
              "</table>\n",
              "</div>"
            ],
            "text/plain": [
              "                                              headline countries         cities\n",
              "617                   Mad Cow Disease Detected in Lyon      None           Lyon\n",
              "618    Memphis Encounters Severe Symptoms of Swine Flu      None        Memphis\n",
              "619                 Zika Troubles come to Delray Beach      None   Delray Beach\n",
              "620                How to Avoid Chikungunya in Hampton      None        Hampton\n",
              "621                          Zika Reported in Sao Jose      None       Sao Jose\n",
              "622            Case of Norovirus Reported in Stratford      None      Stratford\n",
              "623             How to Avoid Hepatitis E in South Bend      None     South Bend\n",
              "624                  Hepatitis C Outbreak in Bethlehem      None      Bethlehem\n",
              "625                  Davenport is infested with Dengue      None      Davenport\n",
              "626  Rumors about Swine Flu spreading in Suzhou hav...      None         Suzhou\n",
              "627          Malaria Vaccine is now Required in Elyria      None         Elyria\n",
              "628                    Zika case reported in Antioquia      None           None\n",
              "629              Case of Swine Flu Reported in Tbilisi      None        Tbilisi\n",
              "630               Chikungunya has not Left Pismo Beach      None           None\n",
              "631                            Zika spreads to La Joya      None           None\n",
              "632               Influenza Keeps Spreading in Suffolk      None        Suffolk\n",
              "633  More people in Allentown are infected with Chl...      None      Allentown\n",
              "634              Mad Cow Disease re-emerges in Bedford      None        Bedford\n",
              "635  Authorities are Worried about the Spread of He...      None           Yiwu\n",
              "636                        Zika Outbreak in Yurimaguas      None     Yurimaguas\n",
              "637                          Dengue Outbreak in Easton      None         Easton\n",
              "638                    Varicella has Arrived in Milton      None         Milton\n",
              "639       New medicine wipes out Meningitis in Sevilla      None        Sevilla\n",
              "640  Authorities are Worried about the Spread of Va...      None         Clovis\n",
              "641          More Zika patients reported in Fort Worth      None     Fort Worth\n",
              "642             Zika symptoms spotted in Boynton Beach      None  Boynton Beach\n",
              "643                     Outbreak of Zika in Portoviejo      None     Portoviejo\n",
              "644                       Influenza Exposure in Muscat      None         Muscat\n",
              "645  Rumors about Rabies spreading in Jerusalem hav...      None      Jerusalem\n",
              "646              More Zika patients reported in Indang      None         Indang\n",
              "647  Suva authorities confirmed the spread of Rotav...      None           Suva\n",
              "648         More Zika patients reported in Bella Vista      None    Bella Vista\n",
              "649                     Zika Outbreak in Wichita Falls      None  Wichita Falls"
            ]
          },
          "metadata": {
            "tags": []
          },
          "execution_count": 15
        }
      ]
    },
    {
      "cell_type": "code",
      "metadata": {
        "id": "actUww1Qxmi5",
        "colab_type": "code",
        "outputId": "65fa654d-27df-4ed1-dea1-96e25b8aff12",
        "colab": {
          "base_uri": "https://localhost:8080/",
          "height": 34
        }
      },
      "source": [
        "data.shape"
      ],
      "execution_count": 16,
      "outputs": [
        {
          "output_type": "execute_result",
          "data": {
            "text/plain": [
              "(650, 3)"
            ]
          },
          "metadata": {
            "tags": []
          },
          "execution_count": 16
        }
      ]
    },
    {
      "cell_type": "code",
      "metadata": {
        "id": "mw_sYPjCxpM6",
        "colab_type": "code",
        "outputId": "5a1255c9-b3bb-4f58-8044-f1ba5bf0cac8",
        "colab": {
          "base_uri": "https://localhost:8080/",
          "height": 85
        }
      },
      "source": [
        "data.isnull().sum()"
      ],
      "execution_count": 17,
      "outputs": [
        {
          "output_type": "execute_result",
          "data": {
            "text/plain": [
              "headline       0\n",
              "countries    635\n",
              "cities        42\n",
              "dtype: int64"
            ]
          },
          "metadata": {
            "tags": []
          },
          "execution_count": 17
        }
      ]
    },
    {
      "cell_type": "code",
      "metadata": {
        "id": "JXiv2U8xxsgy",
        "colab_type": "code",
        "colab": {}
      },
      "source": [
        "gc = GeonamesCache()\n",
        "cities = gc.get_cities()\n",
        "num_cities = len(cities)"
      ],
      "execution_count": 0,
      "outputs": []
    },
    {
      "cell_type": "code",
      "metadata": {
        "id": "uY7SWlWk21os",
        "colab_type": "code",
        "outputId": "5b0a91b7-9e0a-42eb-8ee8-21c40ccb851c",
        "colab": {
          "base_uri": "https://localhost:8080/",
          "height": 34
        }
      },
      "source": [
        "type(str(np.nan))"
      ],
      "execution_count": 19,
      "outputs": [
        {
          "output_type": "execute_result",
          "data": {
            "text/plain": [
              "str"
            ]
          },
          "metadata": {
            "tags": []
          },
          "execution_count": 19
        }
      ]
    },
    {
      "cell_type": "markdown",
      "metadata": {
        "id": "UDrV_yuGzVrG",
        "colab_type": "text"
      },
      "source": [
        "# Extracting latitude, longitude and country code."
      ]
    },
    {
      "cell_type": "code",
      "metadata": {
        "id": "PTAGi23523Fk",
        "colab_type": "code",
        "colab": {}
      },
      "source": [
        "#result =  gc.get_cities_by_name(data[['cities']])\n",
        "#data['Latitude'] = np.nan\n",
        "#data['Longitude'] = np.nan\n",
        "#data['Country_code'] = str(np.nan)\n",
        "def extracting_longitude_latitude(data):\n",
        "  for index, row in data.iterrows():\n",
        "    resulti = gc.get_cities_by_name(row['cities'])\n",
        "    for  citiaa in resulti:\n",
        "      city_info = list(citiaa.values())[0]\n",
        "        #len(city_info)\n",
        "      data.at[index, 'Latitude'] = city_info['latitude']\n",
        "      data.at[index, 'Longitude'] = city_info['longitude']\n",
        "      data.at[index, 'Country_code'] = city_info['countrycode']\n",
        "  return data\n",
        "     \n",
        "#print(city_info)     "
      ],
      "execution_count": 0,
      "outputs": []
    },
    {
      "cell_type": "code",
      "metadata": {
        "id": "cCzHP96b-Lgj",
        "colab_type": "code",
        "colab": {}
      },
      "source": [
        "data = extracting_longitude_latitude(data)"
      ],
      "execution_count": 0,
      "outputs": []
    },
    {
      "cell_type": "code",
      "metadata": {
        "id": "FLIrjdmD-RHP",
        "colab_type": "code",
        "colab": {
          "base_uri": "https://localhost:8080/",
          "height": 204
        },
        "outputId": "d67a98ba-6cc1-4f09-9ad3-3b0ea913cda5"
      },
      "source": [
        "data.head()"
      ],
      "execution_count": 22,
      "outputs": [
        {
          "output_type": "execute_result",
          "data": {
            "text/html": [
              "<div>\n",
              "<style scoped>\n",
              "    .dataframe tbody tr th:only-of-type {\n",
              "        vertical-align: middle;\n",
              "    }\n",
              "\n",
              "    .dataframe tbody tr th {\n",
              "        vertical-align: top;\n",
              "    }\n",
              "\n",
              "    .dataframe thead th {\n",
              "        text-align: right;\n",
              "    }\n",
              "</style>\n",
              "<table border=\"1\" class=\"dataframe\">\n",
              "  <thead>\n",
              "    <tr style=\"text-align: right;\">\n",
              "      <th></th>\n",
              "      <th>headline</th>\n",
              "      <th>countries</th>\n",
              "      <th>cities</th>\n",
              "      <th>Latitude</th>\n",
              "      <th>Longitude</th>\n",
              "      <th>Country_code</th>\n",
              "    </tr>\n",
              "  </thead>\n",
              "  <tbody>\n",
              "    <tr>\n",
              "      <th>0</th>\n",
              "      <td>Zika Outbreak Hits Miami</td>\n",
              "      <td>None</td>\n",
              "      <td>Miami</td>\n",
              "      <td>25.77427</td>\n",
              "      <td>-80.19366</td>\n",
              "      <td>US</td>\n",
              "    </tr>\n",
              "    <tr>\n",
              "      <th>1</th>\n",
              "      <td>Could Zika Reach New York City?</td>\n",
              "      <td>None</td>\n",
              "      <td>New York City</td>\n",
              "      <td>40.71427</td>\n",
              "      <td>-74.00597</td>\n",
              "      <td>US</td>\n",
              "    </tr>\n",
              "    <tr>\n",
              "      <th>2</th>\n",
              "      <td>First Case of Zika in Miami Beach</td>\n",
              "      <td>None</td>\n",
              "      <td>Miami Beach</td>\n",
              "      <td>25.79065</td>\n",
              "      <td>-80.13005</td>\n",
              "      <td>US</td>\n",
              "    </tr>\n",
              "    <tr>\n",
              "      <th>3</th>\n",
              "      <td>Mystery Virus Spreads in Recife, Brazil</td>\n",
              "      <td>Brazil</td>\n",
              "      <td>Recife</td>\n",
              "      <td>-8.05389</td>\n",
              "      <td>-34.88111</td>\n",
              "      <td>BR</td>\n",
              "    </tr>\n",
              "    <tr>\n",
              "      <th>4</th>\n",
              "      <td>Dallas man comes down with case of Zika</td>\n",
              "      <td>None</td>\n",
              "      <td>Dallas</td>\n",
              "      <td>44.91928</td>\n",
              "      <td>-123.31705</td>\n",
              "      <td>US</td>\n",
              "    </tr>\n",
              "  </tbody>\n",
              "</table>\n",
              "</div>"
            ],
            "text/plain": [
              "                                  headline countries  ...  Longitude  Country_code\n",
              "0                 Zika Outbreak Hits Miami      None  ...  -80.19366            US\n",
              "1          Could Zika Reach New York City?      None  ...  -74.00597            US\n",
              "2        First Case of Zika in Miami Beach      None  ...  -80.13005            US\n",
              "3  Mystery Virus Spreads in Recife, Brazil    Brazil  ...  -34.88111            BR\n",
              "4  Dallas man comes down with case of Zika      None  ... -123.31705            US\n",
              "\n",
              "[5 rows x 6 columns]"
            ]
          },
          "metadata": {
            "tags": []
          },
          "execution_count": 22
        }
      ]
    },
    {
      "cell_type": "code",
      "metadata": {
        "id": "_u1fpLX0osnT",
        "colab_type": "code",
        "colab": {}
      },
      "source": [
        "#list(citiaa.values())[0]"
      ],
      "execution_count": 0,
      "outputs": []
    },
    {
      "cell_type": "code",
      "metadata": {
        "id": "fBhuQed0pK5U",
        "colab_type": "code",
        "colab": {}
      },
      "source": [
        "#print(city_info)"
      ],
      "execution_count": 0,
      "outputs": []
    },
    {
      "cell_type": "code",
      "metadata": {
        "id": "aoIp_vW13F_Z",
        "colab_type": "code",
        "outputId": "3c75f347-3155-451f-e551-658f68a02341",
        "colab": {
          "base_uri": "https://localhost:8080/",
          "height": 1000
        }
      },
      "source": [
        "data.tail(40)"
      ],
      "execution_count": 25,
      "outputs": [
        {
          "output_type": "execute_result",
          "data": {
            "text/html": [
              "<div>\n",
              "<style scoped>\n",
              "    .dataframe tbody tr th:only-of-type {\n",
              "        vertical-align: middle;\n",
              "    }\n",
              "\n",
              "    .dataframe tbody tr th {\n",
              "        vertical-align: top;\n",
              "    }\n",
              "\n",
              "    .dataframe thead th {\n",
              "        text-align: right;\n",
              "    }\n",
              "</style>\n",
              "<table border=\"1\" class=\"dataframe\">\n",
              "  <thead>\n",
              "    <tr style=\"text-align: right;\">\n",
              "      <th></th>\n",
              "      <th>headline</th>\n",
              "      <th>countries</th>\n",
              "      <th>cities</th>\n",
              "      <th>Latitude</th>\n",
              "      <th>Longitude</th>\n",
              "      <th>Country_code</th>\n",
              "    </tr>\n",
              "  </thead>\n",
              "  <tbody>\n",
              "    <tr>\n",
              "      <th>610</th>\n",
              "      <td>Barstow Patient in Critical Condition after Co...</td>\n",
              "      <td>None</td>\n",
              "      <td>Barstow</td>\n",
              "      <td>34.89859</td>\n",
              "      <td>-117.02282</td>\n",
              "      <td>US</td>\n",
              "    </tr>\n",
              "    <tr>\n",
              "      <th>611</th>\n",
              "      <td>Hepatitis D Exposure in Aswan</td>\n",
              "      <td>None</td>\n",
              "      <td>Aswan</td>\n",
              "      <td>24.09082</td>\n",
              "      <td>32.89942</td>\n",
              "      <td>EG</td>\n",
              "    </tr>\n",
              "    <tr>\n",
              "      <th>612</th>\n",
              "      <td>Will Gonorrhea vaccine help East Moline?</td>\n",
              "      <td>None</td>\n",
              "      <td>East Moline</td>\n",
              "      <td>41.50087</td>\n",
              "      <td>-90.44430</td>\n",
              "      <td>US</td>\n",
              "    </tr>\n",
              "    <tr>\n",
              "      <th>613</th>\n",
              "      <td>New medicine wipes out Influenza in Redlands</td>\n",
              "      <td>None</td>\n",
              "      <td>Redlands</td>\n",
              "      <td>34.05557</td>\n",
              "      <td>-117.18254</td>\n",
              "      <td>US</td>\n",
              "    </tr>\n",
              "    <tr>\n",
              "      <th>614</th>\n",
              "      <td>How to Avoid Contaminated Meat when Visiting B...</td>\n",
              "      <td>None</td>\n",
              "      <td>Basel</td>\n",
              "      <td>47.55839</td>\n",
              "      <td>7.57327</td>\n",
              "      <td>CH</td>\n",
              "    </tr>\n",
              "    <tr>\n",
              "      <th>615</th>\n",
              "      <td>More Zika patients reported in Kampong Speu</td>\n",
              "      <td>None</td>\n",
              "      <td>Kampong Speu</td>\n",
              "      <td>11.45332</td>\n",
              "      <td>104.52085</td>\n",
              "      <td>KH</td>\n",
              "    </tr>\n",
              "    <tr>\n",
              "      <th>616</th>\n",
              "      <td>Alameda Residents Recieve Rabies vaccine</td>\n",
              "      <td>None</td>\n",
              "      <td>Alameda</td>\n",
              "      <td>37.76521</td>\n",
              "      <td>-122.24164</td>\n",
              "      <td>US</td>\n",
              "    </tr>\n",
              "    <tr>\n",
              "      <th>617</th>\n",
              "      <td>Mad Cow Disease Detected in Lyon</td>\n",
              "      <td>None</td>\n",
              "      <td>Lyon</td>\n",
              "      <td>45.74846</td>\n",
              "      <td>4.84671</td>\n",
              "      <td>FR</td>\n",
              "    </tr>\n",
              "    <tr>\n",
              "      <th>618</th>\n",
              "      <td>Memphis Encounters Severe Symptoms of Swine Flu</td>\n",
              "      <td>None</td>\n",
              "      <td>Memphis</td>\n",
              "      <td>35.14953</td>\n",
              "      <td>-90.04898</td>\n",
              "      <td>US</td>\n",
              "    </tr>\n",
              "    <tr>\n",
              "      <th>619</th>\n",
              "      <td>Zika Troubles come to Delray Beach</td>\n",
              "      <td>None</td>\n",
              "      <td>Delray Beach</td>\n",
              "      <td>26.46146</td>\n",
              "      <td>-80.07282</td>\n",
              "      <td>US</td>\n",
              "    </tr>\n",
              "    <tr>\n",
              "      <th>620</th>\n",
              "      <td>How to Avoid Chikungunya in Hampton</td>\n",
              "      <td>None</td>\n",
              "      <td>Hampton</td>\n",
              "      <td>37.02987</td>\n",
              "      <td>-76.34522</td>\n",
              "      <td>US</td>\n",
              "    </tr>\n",
              "    <tr>\n",
              "      <th>621</th>\n",
              "      <td>Zika Reported in Sao Jose</td>\n",
              "      <td>None</td>\n",
              "      <td>Sao Jose</td>\n",
              "      <td>NaN</td>\n",
              "      <td>NaN</td>\n",
              "      <td>NaN</td>\n",
              "    </tr>\n",
              "    <tr>\n",
              "      <th>622</th>\n",
              "      <td>Case of Norovirus Reported in Stratford</td>\n",
              "      <td>None</td>\n",
              "      <td>Stratford</td>\n",
              "      <td>41.18454</td>\n",
              "      <td>-73.13317</td>\n",
              "      <td>US</td>\n",
              "    </tr>\n",
              "    <tr>\n",
              "      <th>623</th>\n",
              "      <td>How to Avoid Hepatitis E in South Bend</td>\n",
              "      <td>None</td>\n",
              "      <td>South Bend</td>\n",
              "      <td>41.68338</td>\n",
              "      <td>-86.25001</td>\n",
              "      <td>US</td>\n",
              "    </tr>\n",
              "    <tr>\n",
              "      <th>624</th>\n",
              "      <td>Hepatitis C Outbreak in Bethlehem</td>\n",
              "      <td>None</td>\n",
              "      <td>Bethlehem</td>\n",
              "      <td>-28.23078</td>\n",
              "      <td>28.30707</td>\n",
              "      <td>ZA</td>\n",
              "    </tr>\n",
              "    <tr>\n",
              "      <th>625</th>\n",
              "      <td>Davenport is infested with Dengue</td>\n",
              "      <td>None</td>\n",
              "      <td>Davenport</td>\n",
              "      <td>41.52364</td>\n",
              "      <td>-90.57764</td>\n",
              "      <td>US</td>\n",
              "    </tr>\n",
              "    <tr>\n",
              "      <th>626</th>\n",
              "      <td>Rumors about Swine Flu spreading in Suzhou hav...</td>\n",
              "      <td>None</td>\n",
              "      <td>Suzhou</td>\n",
              "      <td>31.30408</td>\n",
              "      <td>120.59538</td>\n",
              "      <td>CN</td>\n",
              "    </tr>\n",
              "    <tr>\n",
              "      <th>627</th>\n",
              "      <td>Malaria Vaccine is now Required in Elyria</td>\n",
              "      <td>None</td>\n",
              "      <td>Elyria</td>\n",
              "      <td>41.36838</td>\n",
              "      <td>-82.10765</td>\n",
              "      <td>US</td>\n",
              "    </tr>\n",
              "    <tr>\n",
              "      <th>628</th>\n",
              "      <td>Zika case reported in Antioquia</td>\n",
              "      <td>None</td>\n",
              "      <td>None</td>\n",
              "      <td>NaN</td>\n",
              "      <td>NaN</td>\n",
              "      <td>NaN</td>\n",
              "    </tr>\n",
              "    <tr>\n",
              "      <th>629</th>\n",
              "      <td>Case of Swine Flu Reported in Tbilisi</td>\n",
              "      <td>None</td>\n",
              "      <td>Tbilisi</td>\n",
              "      <td>41.69411</td>\n",
              "      <td>44.83368</td>\n",
              "      <td>GE</td>\n",
              "    </tr>\n",
              "    <tr>\n",
              "      <th>630</th>\n",
              "      <td>Chikungunya has not Left Pismo Beach</td>\n",
              "      <td>None</td>\n",
              "      <td>None</td>\n",
              "      <td>NaN</td>\n",
              "      <td>NaN</td>\n",
              "      <td>NaN</td>\n",
              "    </tr>\n",
              "    <tr>\n",
              "      <th>631</th>\n",
              "      <td>Zika spreads to La Joya</td>\n",
              "      <td>None</td>\n",
              "      <td>None</td>\n",
              "      <td>NaN</td>\n",
              "      <td>NaN</td>\n",
              "      <td>NaN</td>\n",
              "    </tr>\n",
              "    <tr>\n",
              "      <th>632</th>\n",
              "      <td>Influenza Keeps Spreading in Suffolk</td>\n",
              "      <td>None</td>\n",
              "      <td>Suffolk</td>\n",
              "      <td>36.72836</td>\n",
              "      <td>-76.58496</td>\n",
              "      <td>US</td>\n",
              "    </tr>\n",
              "    <tr>\n",
              "      <th>633</th>\n",
              "      <td>More people in Allentown are infected with Chl...</td>\n",
              "      <td>None</td>\n",
              "      <td>Allentown</td>\n",
              "      <td>40.60843</td>\n",
              "      <td>-75.49018</td>\n",
              "      <td>US</td>\n",
              "    </tr>\n",
              "    <tr>\n",
              "      <th>634</th>\n",
              "      <td>Mad Cow Disease re-emerges in Bedford</td>\n",
              "      <td>None</td>\n",
              "      <td>Bedford</td>\n",
              "      <td>42.94647</td>\n",
              "      <td>-71.51590</td>\n",
              "      <td>US</td>\n",
              "    </tr>\n",
              "    <tr>\n",
              "      <th>635</th>\n",
              "      <td>Authorities are Worried about the Spread of He...</td>\n",
              "      <td>None</td>\n",
              "      <td>Yiwu</td>\n",
              "      <td>29.31506</td>\n",
              "      <td>120.07676</td>\n",
              "      <td>CN</td>\n",
              "    </tr>\n",
              "    <tr>\n",
              "      <th>636</th>\n",
              "      <td>Zika Outbreak in Yurimaguas</td>\n",
              "      <td>None</td>\n",
              "      <td>Yurimaguas</td>\n",
              "      <td>-5.90181</td>\n",
              "      <td>-76.12234</td>\n",
              "      <td>PE</td>\n",
              "    </tr>\n",
              "    <tr>\n",
              "      <th>637</th>\n",
              "      <td>Dengue Outbreak in Easton</td>\n",
              "      <td>None</td>\n",
              "      <td>Easton</td>\n",
              "      <td>40.68843</td>\n",
              "      <td>-75.22073</td>\n",
              "      <td>US</td>\n",
              "    </tr>\n",
              "    <tr>\n",
              "      <th>638</th>\n",
              "      <td>Varicella has Arrived in Milton</td>\n",
              "      <td>None</td>\n",
              "      <td>Milton</td>\n",
              "      <td>34.13216</td>\n",
              "      <td>-84.30067</td>\n",
              "      <td>US</td>\n",
              "    </tr>\n",
              "    <tr>\n",
              "      <th>639</th>\n",
              "      <td>New medicine wipes out Meningitis in Sevilla</td>\n",
              "      <td>None</td>\n",
              "      <td>Sevilla</td>\n",
              "      <td>37.38283</td>\n",
              "      <td>-5.97317</td>\n",
              "      <td>ES</td>\n",
              "    </tr>\n",
              "    <tr>\n",
              "      <th>640</th>\n",
              "      <td>Authorities are Worried about the Spread of Va...</td>\n",
              "      <td>None</td>\n",
              "      <td>Clovis</td>\n",
              "      <td>34.40480</td>\n",
              "      <td>-103.20523</td>\n",
              "      <td>US</td>\n",
              "    </tr>\n",
              "    <tr>\n",
              "      <th>641</th>\n",
              "      <td>More Zika patients reported in Fort Worth</td>\n",
              "      <td>None</td>\n",
              "      <td>Fort Worth</td>\n",
              "      <td>32.72541</td>\n",
              "      <td>-97.32085</td>\n",
              "      <td>US</td>\n",
              "    </tr>\n",
              "    <tr>\n",
              "      <th>642</th>\n",
              "      <td>Zika symptoms spotted in Boynton Beach</td>\n",
              "      <td>None</td>\n",
              "      <td>Boynton Beach</td>\n",
              "      <td>26.52535</td>\n",
              "      <td>-80.06643</td>\n",
              "      <td>US</td>\n",
              "    </tr>\n",
              "    <tr>\n",
              "      <th>643</th>\n",
              "      <td>Outbreak of Zika in Portoviejo</td>\n",
              "      <td>None</td>\n",
              "      <td>Portoviejo</td>\n",
              "      <td>-1.05458</td>\n",
              "      <td>-80.45445</td>\n",
              "      <td>EC</td>\n",
              "    </tr>\n",
              "    <tr>\n",
              "      <th>644</th>\n",
              "      <td>Influenza Exposure in Muscat</td>\n",
              "      <td>None</td>\n",
              "      <td>Muscat</td>\n",
              "      <td>23.58413</td>\n",
              "      <td>58.40778</td>\n",
              "      <td>OM</td>\n",
              "    </tr>\n",
              "    <tr>\n",
              "      <th>645</th>\n",
              "      <td>Rumors about Rabies spreading in Jerusalem hav...</td>\n",
              "      <td>None</td>\n",
              "      <td>Jerusalem</td>\n",
              "      <td>31.76904</td>\n",
              "      <td>35.21633</td>\n",
              "      <td>IL</td>\n",
              "    </tr>\n",
              "    <tr>\n",
              "      <th>646</th>\n",
              "      <td>More Zika patients reported in Indang</td>\n",
              "      <td>None</td>\n",
              "      <td>Indang</td>\n",
              "      <td>14.19528</td>\n",
              "      <td>120.87694</td>\n",
              "      <td>PH</td>\n",
              "    </tr>\n",
              "    <tr>\n",
              "      <th>647</th>\n",
              "      <td>Suva authorities confirmed the spread of Rotav...</td>\n",
              "      <td>None</td>\n",
              "      <td>Suva</td>\n",
              "      <td>-18.14161</td>\n",
              "      <td>178.44149</td>\n",
              "      <td>FJ</td>\n",
              "    </tr>\n",
              "    <tr>\n",
              "      <th>648</th>\n",
              "      <td>More Zika patients reported in Bella Vista</td>\n",
              "      <td>None</td>\n",
              "      <td>Bella Vista</td>\n",
              "      <td>36.48070</td>\n",
              "      <td>-94.27134</td>\n",
              "      <td>US</td>\n",
              "    </tr>\n",
              "    <tr>\n",
              "      <th>649</th>\n",
              "      <td>Zika Outbreak in Wichita Falls</td>\n",
              "      <td>None</td>\n",
              "      <td>Wichita Falls</td>\n",
              "      <td>33.91371</td>\n",
              "      <td>-98.49339</td>\n",
              "      <td>US</td>\n",
              "    </tr>\n",
              "  </tbody>\n",
              "</table>\n",
              "</div>"
            ],
            "text/plain": [
              "                                              headline  ... Country_code\n",
              "610  Barstow Patient in Critical Condition after Co...  ...           US\n",
              "611                      Hepatitis D Exposure in Aswan  ...           EG\n",
              "612           Will Gonorrhea vaccine help East Moline?  ...           US\n",
              "613       New medicine wipes out Influenza in Redlands  ...           US\n",
              "614  How to Avoid Contaminated Meat when Visiting B...  ...           CH\n",
              "615        More Zika patients reported in Kampong Speu  ...           KH\n",
              "616           Alameda Residents Recieve Rabies vaccine  ...           US\n",
              "617                   Mad Cow Disease Detected in Lyon  ...           FR\n",
              "618    Memphis Encounters Severe Symptoms of Swine Flu  ...           US\n",
              "619                 Zika Troubles come to Delray Beach  ...           US\n",
              "620                How to Avoid Chikungunya in Hampton  ...           US\n",
              "621                          Zika Reported in Sao Jose  ...          NaN\n",
              "622            Case of Norovirus Reported in Stratford  ...           US\n",
              "623             How to Avoid Hepatitis E in South Bend  ...           US\n",
              "624                  Hepatitis C Outbreak in Bethlehem  ...           ZA\n",
              "625                  Davenport is infested with Dengue  ...           US\n",
              "626  Rumors about Swine Flu spreading in Suzhou hav...  ...           CN\n",
              "627          Malaria Vaccine is now Required in Elyria  ...           US\n",
              "628                    Zika case reported in Antioquia  ...          NaN\n",
              "629              Case of Swine Flu Reported in Tbilisi  ...           GE\n",
              "630               Chikungunya has not Left Pismo Beach  ...          NaN\n",
              "631                            Zika spreads to La Joya  ...          NaN\n",
              "632               Influenza Keeps Spreading in Suffolk  ...           US\n",
              "633  More people in Allentown are infected with Chl...  ...           US\n",
              "634              Mad Cow Disease re-emerges in Bedford  ...           US\n",
              "635  Authorities are Worried about the Spread of He...  ...           CN\n",
              "636                        Zika Outbreak in Yurimaguas  ...           PE\n",
              "637                          Dengue Outbreak in Easton  ...           US\n",
              "638                    Varicella has Arrived in Milton  ...           US\n",
              "639       New medicine wipes out Meningitis in Sevilla  ...           ES\n",
              "640  Authorities are Worried about the Spread of Va...  ...           US\n",
              "641          More Zika patients reported in Fort Worth  ...           US\n",
              "642             Zika symptoms spotted in Boynton Beach  ...           US\n",
              "643                     Outbreak of Zika in Portoviejo  ...           EC\n",
              "644                       Influenza Exposure in Muscat  ...           OM\n",
              "645  Rumors about Rabies spreading in Jerusalem hav...  ...           IL\n",
              "646              More Zika patients reported in Indang  ...           PH\n",
              "647  Suva authorities confirmed the spread of Rotav...  ...           FJ\n",
              "648         More Zika patients reported in Bella Vista  ...           US\n",
              "649                     Zika Outbreak in Wichita Falls  ...           US\n",
              "\n",
              "[40 rows x 6 columns]"
            ]
          },
          "metadata": {
            "tags": []
          },
          "execution_count": 25
        }
      ]
    },
    {
      "cell_type": "markdown",
      "metadata": {
        "id": "EA1tnfZWzwye",
        "colab_type": "text"
      },
      "source": [
        "# Testing \n",
        "Manually passing in some cities in geonamecache to check the longitude and latitude values."
      ]
    },
    {
      "cell_type": "code",
      "metadata": {
        "id": "87uWufhOBGUU",
        "colab_type": "code",
        "outputId": "a012c808-c2d9-4f7c-ac7e-c324e6fa6b31",
        "colab": {
          "base_uri": "https://localhost:8080/",
          "height": 153
        }
      },
      "source": [
        "test_Jerusalem = gc.get_cities_by_name('Jerusalem')\n",
        "test_Jerusalem"
      ],
      "execution_count": 26,
      "outputs": [
        {
          "output_type": "execute_result",
          "data": {
            "text/plain": [
              "[{'281184': {'admin1code': '06',\n",
              "   'countrycode': 'IL',\n",
              "   'geonameid': 281184,\n",
              "   'latitude': 31.76904,\n",
              "   'longitude': 35.21633,\n",
              "   'name': 'Jerusalem',\n",
              "   'population': 801000,\n",
              "   'timezone': 'Asia/Jerusalem'}}]"
            ]
          },
          "metadata": {
            "tags": []
          },
          "execution_count": 26
        }
      ]
    },
    {
      "cell_type": "code",
      "metadata": {
        "id": "zQi4Ct5C2HQT",
        "colab_type": "code",
        "colab": {
          "base_uri": "https://localhost:8080/",
          "height": 153
        },
        "outputId": "141f56d0-d646-41de-9534-2adc1d941169"
      },
      "source": [
        "test_Portoviejo = gc.get_cities_by_name('Portoviejo')\n",
        "test_Portoviejo"
      ],
      "execution_count": 27,
      "outputs": [
        {
          "output_type": "execute_result",
          "data": {
            "text/plain": [
              "[{'3652941': {'admin1code': '14',\n",
              "   'countrycode': 'EC',\n",
              "   'geonameid': 3652941,\n",
              "   'latitude': -1.05458,\n",
              "   'longitude': -80.45445,\n",
              "   'name': 'Portoviejo',\n",
              "   'population': 170326,\n",
              "   'timezone': 'America/Guayaquil'}}]"
            ]
          },
          "metadata": {
            "tags": []
          },
          "execution_count": 27
        }
      ]
    },
    {
      "cell_type": "code",
      "metadata": {
        "id": "Os-yNprFBO_4",
        "colab_type": "code",
        "outputId": "e9d79f3e-5e03-4f34-a13b-177397660222",
        "colab": {
          "base_uri": "https://localhost:8080/",
          "height": 136
        }
      },
      "source": [
        "data.isnull().sum()"
      ],
      "execution_count": 28,
      "outputs": [
        {
          "output_type": "execute_result",
          "data": {
            "text/plain": [
              "headline          0\n",
              "countries       635\n",
              "cities           42\n",
              "Latitude         67\n",
              "Longitude        67\n",
              "Country_code     67\n",
              "dtype: int64"
            ]
          },
          "metadata": {
            "tags": []
          },
          "execution_count": 28
        }
      ]
    },
    {
      "cell_type": "code",
      "metadata": {
        "id": "1N1R01A1gKHL",
        "colab_type": "code",
        "outputId": "3f8f8d93-785d-44e0-c891-cc7f2a173eb1",
        "colab": {
          "base_uri": "https://localhost:8080/",
          "height": 34
        }
      },
      "source": [
        "rslt_df = data.loc[data['Latitude'].isnull()] \n",
        "#rslt_df\n",
        "#data =  data.drop(data.loc[data['cities'].isnull()])\n",
        "\n",
        "rslt_df.shape\n",
        "#data.drop(['cities'], axis=0)"
      ],
      "execution_count": 29,
      "outputs": [
        {
          "output_type": "execute_result",
          "data": {
            "text/plain": [
              "(67, 6)"
            ]
          },
          "metadata": {
            "tags": []
          },
          "execution_count": 29
        }
      ]
    },
    {
      "cell_type": "code",
      "metadata": {
        "id": "498HPFTV2_Ej",
        "colab_type": "code",
        "colab": {}
      },
      "source": [
        ""
      ],
      "execution_count": 0,
      "outputs": []
    },
    {
      "cell_type": "code",
      "metadata": {
        "id": "i5y4MSjCn0_P",
        "colab_type": "code",
        "outputId": "0bb76eb1-2b39-4c13-a049-5eae85790a4b",
        "colab": {
          "base_uri": "https://localhost:8080/",
          "height": 136
        }
      },
      "source": [
        "data.isnull().sum()"
      ],
      "execution_count": 30,
      "outputs": [
        {
          "output_type": "execute_result",
          "data": {
            "text/plain": [
              "headline          0\n",
              "countries       635\n",
              "cities           42\n",
              "Latitude         67\n",
              "Longitude        67\n",
              "Country_code     67\n",
              "dtype: int64"
            ]
          },
          "metadata": {
            "tags": []
          },
          "execution_count": 30
        }
      ]
    },
    {
      "cell_type": "markdown",
      "metadata": {
        "id": "llyzvvse3lus",
        "colab_type": "text"
      },
      "source": [
        "# Handling Missing Values.\n",
        " As we can see that there are 635 values are missing in the countries column so we can drop that column because we are not getting any quality information from that column. Regarding the city column we will jsut keep that data that is not missiing in the cities column as well."
      ]
    },
    {
      "cell_type": "code",
      "metadata": {
        "id": "dXwLPXqOn9Gl",
        "colab_type": "code",
        "colab": {}
      },
      "source": [
        "final_data  = data[data['cities'].notna()]"
      ],
      "execution_count": 0,
      "outputs": []
    },
    {
      "cell_type": "code",
      "metadata": {
        "id": "rneoxCQioI-t",
        "colab_type": "code",
        "outputId": "3d8eaa12-f266-4232-d914-ca74858e6b89",
        "colab": {
          "base_uri": "https://localhost:8080/",
          "height": 204
        }
      },
      "source": [
        "final_data.head()"
      ],
      "execution_count": 32,
      "outputs": [
        {
          "output_type": "execute_result",
          "data": {
            "text/html": [
              "<div>\n",
              "<style scoped>\n",
              "    .dataframe tbody tr th:only-of-type {\n",
              "        vertical-align: middle;\n",
              "    }\n",
              "\n",
              "    .dataframe tbody tr th {\n",
              "        vertical-align: top;\n",
              "    }\n",
              "\n",
              "    .dataframe thead th {\n",
              "        text-align: right;\n",
              "    }\n",
              "</style>\n",
              "<table border=\"1\" class=\"dataframe\">\n",
              "  <thead>\n",
              "    <tr style=\"text-align: right;\">\n",
              "      <th></th>\n",
              "      <th>headline</th>\n",
              "      <th>countries</th>\n",
              "      <th>cities</th>\n",
              "      <th>Latitude</th>\n",
              "      <th>Longitude</th>\n",
              "      <th>Country_code</th>\n",
              "    </tr>\n",
              "  </thead>\n",
              "  <tbody>\n",
              "    <tr>\n",
              "      <th>0</th>\n",
              "      <td>Zika Outbreak Hits Miami</td>\n",
              "      <td>None</td>\n",
              "      <td>Miami</td>\n",
              "      <td>25.77427</td>\n",
              "      <td>-80.19366</td>\n",
              "      <td>US</td>\n",
              "    </tr>\n",
              "    <tr>\n",
              "      <th>1</th>\n",
              "      <td>Could Zika Reach New York City?</td>\n",
              "      <td>None</td>\n",
              "      <td>New York City</td>\n",
              "      <td>40.71427</td>\n",
              "      <td>-74.00597</td>\n",
              "      <td>US</td>\n",
              "    </tr>\n",
              "    <tr>\n",
              "      <th>2</th>\n",
              "      <td>First Case of Zika in Miami Beach</td>\n",
              "      <td>None</td>\n",
              "      <td>Miami Beach</td>\n",
              "      <td>25.79065</td>\n",
              "      <td>-80.13005</td>\n",
              "      <td>US</td>\n",
              "    </tr>\n",
              "    <tr>\n",
              "      <th>3</th>\n",
              "      <td>Mystery Virus Spreads in Recife, Brazil</td>\n",
              "      <td>Brazil</td>\n",
              "      <td>Recife</td>\n",
              "      <td>-8.05389</td>\n",
              "      <td>-34.88111</td>\n",
              "      <td>BR</td>\n",
              "    </tr>\n",
              "    <tr>\n",
              "      <th>4</th>\n",
              "      <td>Dallas man comes down with case of Zika</td>\n",
              "      <td>None</td>\n",
              "      <td>Dallas</td>\n",
              "      <td>44.91928</td>\n",
              "      <td>-123.31705</td>\n",
              "      <td>US</td>\n",
              "    </tr>\n",
              "  </tbody>\n",
              "</table>\n",
              "</div>"
            ],
            "text/plain": [
              "                                  headline countries  ...  Longitude  Country_code\n",
              "0                 Zika Outbreak Hits Miami      None  ...  -80.19366            US\n",
              "1          Could Zika Reach New York City?      None  ...  -74.00597            US\n",
              "2        First Case of Zika in Miami Beach      None  ...  -80.13005            US\n",
              "3  Mystery Virus Spreads in Recife, Brazil    Brazil  ...  -34.88111            BR\n",
              "4  Dallas man comes down with case of Zika      None  ... -123.31705            US\n",
              "\n",
              "[5 rows x 6 columns]"
            ]
          },
          "metadata": {
            "tags": []
          },
          "execution_count": 32
        }
      ]
    },
    {
      "cell_type": "code",
      "metadata": {
        "id": "BU9dAmbw39k4",
        "colab_type": "code",
        "outputId": "9dae4c71-4803-415d-a479-495ee648ee69",
        "colab": {
          "base_uri": "https://localhost:8080/",
          "height": 34
        }
      },
      "source": [
        "final_data.shape"
      ],
      "execution_count": 33,
      "outputs": [
        {
          "output_type": "execute_result",
          "data": {
            "text/plain": [
              "(608, 6)"
            ]
          },
          "metadata": {
            "tags": []
          },
          "execution_count": 33
        }
      ]
    },
    {
      "cell_type": "code",
      "metadata": {
        "id": "1g54tdav4CX7",
        "colab_type": "code",
        "colab": {}
      },
      "source": [
        "final_data = final_data.drop(['countries'],axis = 1)"
      ],
      "execution_count": 0,
      "outputs": []
    },
    {
      "cell_type": "code",
      "metadata": {
        "id": "3xRvL-Ce4SfV",
        "colab_type": "code",
        "outputId": "4f2fce18-db4e-44ab-87e3-6f0f9f6cfa28",
        "colab": {
          "base_uri": "https://localhost:8080/",
          "height": 204
        }
      },
      "source": [
        "final_data.head()"
      ],
      "execution_count": 35,
      "outputs": [
        {
          "output_type": "execute_result",
          "data": {
            "text/html": [
              "<div>\n",
              "<style scoped>\n",
              "    .dataframe tbody tr th:only-of-type {\n",
              "        vertical-align: middle;\n",
              "    }\n",
              "\n",
              "    .dataframe tbody tr th {\n",
              "        vertical-align: top;\n",
              "    }\n",
              "\n",
              "    .dataframe thead th {\n",
              "        text-align: right;\n",
              "    }\n",
              "</style>\n",
              "<table border=\"1\" class=\"dataframe\">\n",
              "  <thead>\n",
              "    <tr style=\"text-align: right;\">\n",
              "      <th></th>\n",
              "      <th>headline</th>\n",
              "      <th>cities</th>\n",
              "      <th>Latitude</th>\n",
              "      <th>Longitude</th>\n",
              "      <th>Country_code</th>\n",
              "    </tr>\n",
              "  </thead>\n",
              "  <tbody>\n",
              "    <tr>\n",
              "      <th>0</th>\n",
              "      <td>Zika Outbreak Hits Miami</td>\n",
              "      <td>Miami</td>\n",
              "      <td>25.77427</td>\n",
              "      <td>-80.19366</td>\n",
              "      <td>US</td>\n",
              "    </tr>\n",
              "    <tr>\n",
              "      <th>1</th>\n",
              "      <td>Could Zika Reach New York City?</td>\n",
              "      <td>New York City</td>\n",
              "      <td>40.71427</td>\n",
              "      <td>-74.00597</td>\n",
              "      <td>US</td>\n",
              "    </tr>\n",
              "    <tr>\n",
              "      <th>2</th>\n",
              "      <td>First Case of Zika in Miami Beach</td>\n",
              "      <td>Miami Beach</td>\n",
              "      <td>25.79065</td>\n",
              "      <td>-80.13005</td>\n",
              "      <td>US</td>\n",
              "    </tr>\n",
              "    <tr>\n",
              "      <th>3</th>\n",
              "      <td>Mystery Virus Spreads in Recife, Brazil</td>\n",
              "      <td>Recife</td>\n",
              "      <td>-8.05389</td>\n",
              "      <td>-34.88111</td>\n",
              "      <td>BR</td>\n",
              "    </tr>\n",
              "    <tr>\n",
              "      <th>4</th>\n",
              "      <td>Dallas man comes down with case of Zika</td>\n",
              "      <td>Dallas</td>\n",
              "      <td>44.91928</td>\n",
              "      <td>-123.31705</td>\n",
              "      <td>US</td>\n",
              "    </tr>\n",
              "  </tbody>\n",
              "</table>\n",
              "</div>"
            ],
            "text/plain": [
              "                                  headline  ... Country_code\n",
              "0                 Zika Outbreak Hits Miami  ...           US\n",
              "1          Could Zika Reach New York City?  ...           US\n",
              "2        First Case of Zika in Miami Beach  ...           US\n",
              "3  Mystery Virus Spreads in Recife, Brazil  ...           BR\n",
              "4  Dallas man comes down with case of Zika  ...           US\n",
              "\n",
              "[5 rows x 5 columns]"
            ]
          },
          "metadata": {
            "tags": []
          },
          "execution_count": 35
        }
      ]
    },
    {
      "cell_type": "code",
      "metadata": {
        "id": "lOHX0EqM4W8F",
        "colab_type": "code",
        "outputId": "cace6227-0170-4fb7-8ebe-4aa27ffa42a8",
        "colab": {
          "base_uri": "https://localhost:8080/",
          "height": 119
        }
      },
      "source": [
        "final_data.isnull().sum()"
      ],
      "execution_count": 36,
      "outputs": [
        {
          "output_type": "execute_result",
          "data": {
            "text/plain": [
              "headline         0\n",
              "cities           0\n",
              "Latitude        25\n",
              "Longitude       25\n",
              "Country_code    25\n",
              "dtype: int64"
            ]
          },
          "metadata": {
            "tags": []
          },
          "execution_count": 36
        }
      ]
    },
    {
      "cell_type": "markdown",
      "metadata": {
        "id": "Q2hERgTn5gBz",
        "colab_type": "text"
      },
      "source": [
        "We have 25 values missing in the longitude and latitude.\n",
        "Let's examine why these values are missing."
      ]
    },
    {
      "cell_type": "code",
      "metadata": {
        "id": "2g53TrhB5K_q",
        "colab_type": "code",
        "outputId": "58c18691-b1a3-465a-91af-39b1a12b45a7",
        "colab": {
          "base_uri": "https://localhost:8080/",
          "height": 824
        }
      },
      "source": [
        "missing_lat_long = final_data.loc[final_data['Latitude'].isnull()] \n",
        "missing_lat_long"
      ],
      "execution_count": 37,
      "outputs": [
        {
          "output_type": "execute_result",
          "data": {
            "text/html": [
              "<div>\n",
              "<style scoped>\n",
              "    .dataframe tbody tr th:only-of-type {\n",
              "        vertical-align: middle;\n",
              "    }\n",
              "\n",
              "    .dataframe tbody tr th {\n",
              "        vertical-align: top;\n",
              "    }\n",
              "\n",
              "    .dataframe thead th {\n",
              "        text-align: right;\n",
              "    }\n",
              "</style>\n",
              "<table border=\"1\" class=\"dataframe\">\n",
              "  <thead>\n",
              "    <tr style=\"text-align: right;\">\n",
              "      <th></th>\n",
              "      <th>headline</th>\n",
              "      <th>cities</th>\n",
              "      <th>Latitude</th>\n",
              "      <th>Longitude</th>\n",
              "      <th>Country_code</th>\n",
              "    </tr>\n",
              "  </thead>\n",
              "  <tbody>\n",
              "    <tr>\n",
              "      <th>7</th>\n",
              "      <td>Geneve Scientists Battle to Find Cure</td>\n",
              "      <td>Geneve</td>\n",
              "      <td>NaN</td>\n",
              "      <td>NaN</td>\n",
              "      <td>NaN</td>\n",
              "    </tr>\n",
              "    <tr>\n",
              "      <th>9</th>\n",
              "      <td>Zika Infested Monkeys in Sao Paulo</td>\n",
              "      <td>Sao Paulo</td>\n",
              "      <td>NaN</td>\n",
              "      <td>NaN</td>\n",
              "      <td>NaN</td>\n",
              "    </tr>\n",
              "    <tr>\n",
              "      <th>47</th>\n",
              "      <td>18 new Zika Cases in Bogota</td>\n",
              "      <td>Bogota</td>\n",
              "      <td>NaN</td>\n",
              "      <td>NaN</td>\n",
              "      <td>NaN</td>\n",
              "    </tr>\n",
              "    <tr>\n",
              "      <th>64</th>\n",
              "      <td>Second Zika Paitient in Brasilia</td>\n",
              "      <td>Brasilia</td>\n",
              "      <td>NaN</td>\n",
              "      <td>NaN</td>\n",
              "      <td>NaN</td>\n",
              "    </tr>\n",
              "    <tr>\n",
              "      <th>82</th>\n",
              "      <td>Hepatitis B Vaccine is now Required in Quebec</td>\n",
              "      <td>Quebec</td>\n",
              "      <td>NaN</td>\n",
              "      <td>NaN</td>\n",
              "      <td>NaN</td>\n",
              "    </tr>\n",
              "    <tr>\n",
              "      <th>86</th>\n",
              "      <td>Visitor to Cucuta contracts Zika</td>\n",
              "      <td>Cucuta</td>\n",
              "      <td>NaN</td>\n",
              "      <td>NaN</td>\n",
              "      <td>NaN</td>\n",
              "    </tr>\n",
              "    <tr>\n",
              "      <th>101</th>\n",
              "      <td>Can Zika make it here to Vero Beach?</td>\n",
              "      <td>Can</td>\n",
              "      <td>NaN</td>\n",
              "      <td>NaN</td>\n",
              "      <td>NaN</td>\n",
              "    </tr>\n",
              "    <tr>\n",
              "      <th>115</th>\n",
              "      <td>Spreading Zika ruining Cancun fun</td>\n",
              "      <td>Cancun</td>\n",
              "      <td>NaN</td>\n",
              "      <td>NaN</td>\n",
              "      <td>NaN</td>\n",
              "    </tr>\n",
              "    <tr>\n",
              "      <th>116</th>\n",
              "      <td>Cancun hit by Outbreak of Party Fever!</td>\n",
              "      <td>Cancun</td>\n",
              "      <td>NaN</td>\n",
              "      <td>NaN</td>\n",
              "      <td>NaN</td>\n",
              "    </tr>\n",
              "    <tr>\n",
              "      <th>167</th>\n",
              "      <td>Arhus is infested with Bronchitis</td>\n",
              "      <td>Arhus</td>\n",
              "      <td>NaN</td>\n",
              "      <td>NaN</td>\n",
              "      <td>NaN</td>\n",
              "    </tr>\n",
              "    <tr>\n",
              "      <th>168</th>\n",
              "      <td>Zika Troubles come to Niteroi</td>\n",
              "      <td>Niteroi</td>\n",
              "      <td>NaN</td>\n",
              "      <td>NaN</td>\n",
              "      <td>NaN</td>\n",
              "    </tr>\n",
              "    <tr>\n",
              "      <th>199</th>\n",
              "      <td>More Zika patients reported in Joao Pessoa</td>\n",
              "      <td>Joao Pessoa</td>\n",
              "      <td>NaN</td>\n",
              "      <td>NaN</td>\n",
              "      <td>NaN</td>\n",
              "    </tr>\n",
              "    <tr>\n",
              "      <th>272</th>\n",
              "      <td>Schools in Yaounde Closed Due to Mumps Outbreak</td>\n",
              "      <td>Yaounde</td>\n",
              "      <td>NaN</td>\n",
              "      <td>NaN</td>\n",
              "      <td>NaN</td>\n",
              "    </tr>\n",
              "    <tr>\n",
              "      <th>287</th>\n",
              "      <td>More Zika patients reported in Camacari</td>\n",
              "      <td>Camacari</td>\n",
              "      <td>NaN</td>\n",
              "      <td>NaN</td>\n",
              "      <td>NaN</td>\n",
              "    </tr>\n",
              "    <tr>\n",
              "      <th>341</th>\n",
              "      <td>Zika symptoms spotted in Surat</td>\n",
              "      <td>Surat</td>\n",
              "      <td>NaN</td>\n",
              "      <td>NaN</td>\n",
              "      <td>NaN</td>\n",
              "    </tr>\n",
              "    <tr>\n",
              "      <th>370</th>\n",
              "      <td>Rumors about Hepatitis D Spreading in Montreal...</td>\n",
              "      <td>Montreal</td>\n",
              "      <td>NaN</td>\n",
              "      <td>NaN</td>\n",
              "      <td>NaN</td>\n",
              "    </tr>\n",
              "    <tr>\n",
              "      <th>459</th>\n",
              "      <td>More Zika patients reported in Ribeirao Preto</td>\n",
              "      <td>Ribeirao Preto</td>\n",
              "      <td>NaN</td>\n",
              "      <td>NaN</td>\n",
              "      <td>NaN</td>\n",
              "    </tr>\n",
              "    <tr>\n",
              "      <th>480</th>\n",
              "      <td>More Zika patients reported in Custodia</td>\n",
              "      <td>Custodia</td>\n",
              "      <td>NaN</td>\n",
              "      <td>NaN</td>\n",
              "      <td>NaN</td>\n",
              "    </tr>\n",
              "    <tr>\n",
              "      <th>515</th>\n",
              "      <td>Zika spreads to San Luis Potosi</td>\n",
              "      <td>San Luis Potosi</td>\n",
              "      <td>NaN</td>\n",
              "      <td>NaN</td>\n",
              "      <td>NaN</td>\n",
              "    </tr>\n",
              "    <tr>\n",
              "      <th>522</th>\n",
              "      <td>Authorities are Worried about the Spread of Tu...</td>\n",
              "      <td>Cantu</td>\n",
              "      <td>NaN</td>\n",
              "      <td>NaN</td>\n",
              "      <td>NaN</td>\n",
              "    </tr>\n",
              "    <tr>\n",
              "      <th>524</th>\n",
              "      <td>New medicine wipes out HIV in Kihei</td>\n",
              "      <td>Kihei</td>\n",
              "      <td>NaN</td>\n",
              "      <td>NaN</td>\n",
              "      <td>NaN</td>\n",
              "    </tr>\n",
              "    <tr>\n",
              "      <th>539</th>\n",
              "      <td>Zika case reported in Medellin</td>\n",
              "      <td>Medellin</td>\n",
              "      <td>NaN</td>\n",
              "      <td>NaN</td>\n",
              "      <td>NaN</td>\n",
              "    </tr>\n",
              "    <tr>\n",
              "      <th>549</th>\n",
              "      <td>Zika Reported in Ciudad Acuna</td>\n",
              "      <td>Ciudad Acuna</td>\n",
              "      <td>NaN</td>\n",
              "      <td>NaN</td>\n",
              "      <td>NaN</td>\n",
              "    </tr>\n",
              "    <tr>\n",
              "      <th>559</th>\n",
              "      <td>Kedougou tests new cure for Hepatitis C</td>\n",
              "      <td>Kedougou</td>\n",
              "      <td>NaN</td>\n",
              "      <td>NaN</td>\n",
              "      <td>NaN</td>\n",
              "    </tr>\n",
              "    <tr>\n",
              "      <th>621</th>\n",
              "      <td>Zika Reported in Sao Jose</td>\n",
              "      <td>Sao Jose</td>\n",
              "      <td>NaN</td>\n",
              "      <td>NaN</td>\n",
              "      <td>NaN</td>\n",
              "    </tr>\n",
              "  </tbody>\n",
              "</table>\n",
              "</div>"
            ],
            "text/plain": [
              "                                              headline  ... Country_code\n",
              "7                Geneve Scientists Battle to Find Cure  ...          NaN\n",
              "9                   Zika Infested Monkeys in Sao Paulo  ...          NaN\n",
              "47                         18 new Zika Cases in Bogota  ...          NaN\n",
              "64                    Second Zika Paitient in Brasilia  ...          NaN\n",
              "82       Hepatitis B Vaccine is now Required in Quebec  ...          NaN\n",
              "86                    Visitor to Cucuta contracts Zika  ...          NaN\n",
              "101               Can Zika make it here to Vero Beach?  ...          NaN\n",
              "115                  Spreading Zika ruining Cancun fun  ...          NaN\n",
              "116             Cancun hit by Outbreak of Party Fever!  ...          NaN\n",
              "167                  Arhus is infested with Bronchitis  ...          NaN\n",
              "168                      Zika Troubles come to Niteroi  ...          NaN\n",
              "199         More Zika patients reported in Joao Pessoa  ...          NaN\n",
              "272    Schools in Yaounde Closed Due to Mumps Outbreak  ...          NaN\n",
              "287            More Zika patients reported in Camacari  ...          NaN\n",
              "341                     Zika symptoms spotted in Surat  ...          NaN\n",
              "370  Rumors about Hepatitis D Spreading in Montreal...  ...          NaN\n",
              "459      More Zika patients reported in Ribeirao Preto  ...          NaN\n",
              "480            More Zika patients reported in Custodia  ...          NaN\n",
              "515                    Zika spreads to San Luis Potosi  ...          NaN\n",
              "522  Authorities are Worried about the Spread of Tu...  ...          NaN\n",
              "524                New medicine wipes out HIV in Kihei  ...          NaN\n",
              "539                     Zika case reported in Medellin  ...          NaN\n",
              "549                      Zika Reported in Ciudad Acuna  ...          NaN\n",
              "559            Kedougou tests new cure for Hepatitis C  ...          NaN\n",
              "621                          Zika Reported in Sao Jose  ...          NaN\n",
              "\n",
              "[25 rows x 5 columns]"
            ]
          },
          "metadata": {
            "tags": []
          },
          "execution_count": 37
        }
      ]
    },
    {
      "cell_type": "markdown",
      "metadata": {
        "id": "XbXG1pZa5hzW",
        "colab_type": "text"
      },
      "source": [
        "# Data Quality.\n",
        " As we can see that we still have 25 missing values in the extracted columns (Longitude, Latitude, Country Code) . By carefully inspecting those city names it was found that those cities were not mentioned in the geonamecache. \n",
        "Data quality is a always problem in text related problems. We can still improve but we can get 100% accurate data. For this notebook we will just stick save the data and can see how we can pmrovise it in the next part "
      ]
    },
    {
      "cell_type": "markdown",
      "metadata": {
        "id": "5JKfT5zYG88u",
        "colab_type": "text"
      },
      "source": [
        "# Saving the data For the next step in json Fromat."
      ]
    },
    {
      "cell_type": "code",
      "metadata": {
        "id": "qROdy6Gi5w7a",
        "colab_type": "code",
        "colab": {}
      },
      "source": [
        "import json\n",
        "\n",
        "final_data.to_json (r'Longitude_latitude.json')"
      ],
      "execution_count": 0,
      "outputs": []
    },
    {
      "cell_type": "code",
      "metadata": {
        "id": "hg41bWt96AG_",
        "colab_type": "code",
        "colab": {}
      },
      "source": [
        "long_lat_data = pd.read_json('Longitude_latitude.json')"
      ],
      "execution_count": 0,
      "outputs": []
    },
    {
      "cell_type": "code",
      "metadata": {
        "id": "-_p5SapqGqn-",
        "colab_type": "code",
        "colab": {
          "base_uri": "https://localhost:8080/",
          "height": 204
        },
        "outputId": "f0609bc6-43c2-4d7f-e16c-4772fe8c3ea5"
      },
      "source": [
        "long_lat_data.head()"
      ],
      "execution_count": 43,
      "outputs": [
        {
          "output_type": "execute_result",
          "data": {
            "text/html": [
              "<div>\n",
              "<style scoped>\n",
              "    .dataframe tbody tr th:only-of-type {\n",
              "        vertical-align: middle;\n",
              "    }\n",
              "\n",
              "    .dataframe tbody tr th {\n",
              "        vertical-align: top;\n",
              "    }\n",
              "\n",
              "    .dataframe thead th {\n",
              "        text-align: right;\n",
              "    }\n",
              "</style>\n",
              "<table border=\"1\" class=\"dataframe\">\n",
              "  <thead>\n",
              "    <tr style=\"text-align: right;\">\n",
              "      <th></th>\n",
              "      <th>headline</th>\n",
              "      <th>cities</th>\n",
              "      <th>Latitude</th>\n",
              "      <th>Longitude</th>\n",
              "      <th>Country_code</th>\n",
              "    </tr>\n",
              "  </thead>\n",
              "  <tbody>\n",
              "    <tr>\n",
              "      <th>0</th>\n",
              "      <td>Zika Outbreak Hits Miami</td>\n",
              "      <td>Miami</td>\n",
              "      <td>25.77427</td>\n",
              "      <td>-80.19366</td>\n",
              "      <td>US</td>\n",
              "    </tr>\n",
              "    <tr>\n",
              "      <th>1</th>\n",
              "      <td>Could Zika Reach New York City?</td>\n",
              "      <td>New York City</td>\n",
              "      <td>40.71427</td>\n",
              "      <td>-74.00597</td>\n",
              "      <td>US</td>\n",
              "    </tr>\n",
              "    <tr>\n",
              "      <th>2</th>\n",
              "      <td>First Case of Zika in Miami Beach</td>\n",
              "      <td>Miami Beach</td>\n",
              "      <td>25.79065</td>\n",
              "      <td>-80.13005</td>\n",
              "      <td>US</td>\n",
              "    </tr>\n",
              "    <tr>\n",
              "      <th>3</th>\n",
              "      <td>Mystery Virus Spreads in Recife, Brazil</td>\n",
              "      <td>Recife</td>\n",
              "      <td>-8.05389</td>\n",
              "      <td>-34.88111</td>\n",
              "      <td>BR</td>\n",
              "    </tr>\n",
              "    <tr>\n",
              "      <th>4</th>\n",
              "      <td>Dallas man comes down with case of Zika</td>\n",
              "      <td>Dallas</td>\n",
              "      <td>44.91928</td>\n",
              "      <td>-123.31705</td>\n",
              "      <td>US</td>\n",
              "    </tr>\n",
              "  </tbody>\n",
              "</table>\n",
              "</div>"
            ],
            "text/plain": [
              "                                  headline  ... Country_code\n",
              "0                 Zika Outbreak Hits Miami  ...           US\n",
              "1          Could Zika Reach New York City?  ...           US\n",
              "2        First Case of Zika in Miami Beach  ...           US\n",
              "3  Mystery Virus Spreads in Recife, Brazil  ...           BR\n",
              "4  Dallas man comes down with case of Zika  ...           US\n",
              "\n",
              "[5 rows x 5 columns]"
            ]
          },
          "metadata": {
            "tags": []
          },
          "execution_count": 43
        }
      ]
    },
    {
      "cell_type": "code",
      "metadata": {
        "id": "JpqbNbjbG0Zo",
        "colab_type": "code",
        "colab": {}
      },
      "source": [
        ""
      ],
      "execution_count": 0,
      "outputs": []
    }
  ]
}