{
 "cells": [
  {
   "cell_type": "markdown",
   "metadata": {},
   "source": [
    "## Decision Tree Classifier"
   ]
  },
  {
   "cell_type": "markdown",
   "metadata": {},
   "source": [
    "Decision tree classifier are attractive models if **interpretability** is of importance.<br>\n",
    " -  Interpretability is the degree to which a human can understand the cause of the decision.\n",
    " -  Interpretability is the degree to which a human can consistently predict the model’s result\n",
    " \n",
    "Decision tree models break down our data by making decisions based on asking a series of questions.<br>\n",
    "Decision tree handles both **categorical features** and features with **real numbers**.<br> "
   ]
  },
  {
   "cell_type": "markdown",
   "metadata": {},
   "source": [
    "## Building a Decision tree"
   ]
  },
  {
   "cell_type": "markdown",
   "metadata": {},
   "source": [
    "Decision trees can build complex decision boundaries by dividing the feature space into rectangles.<br>\n",
    "  - Need to be careful regarding depth of the decision tree\n",
    "    -  more complex the decision boundaries can easily result in overfitting\n",
    "  - Note: Feature scaling is not a requirement for decision tree algorithms."
   ]
  },
  {
   "cell_type": "markdown",
   "metadata": {},
   "source": [
    "## Spliting and Optimization"
   ]
  },
  {
   "cell_type": "markdown",
   "metadata": {},
   "source": [
    "**Objective Function** is to maximize the **information gain** at each split.\n",
    "**Splitting Criteria**\n",
    "-  There are three splitting critera that are commonly used.\n",
    "    -  Gini impurity \n",
    "    -  Entropy \n",
    "    -  Classification error\n",
    "\n",
    "\n",
    "**Gini Impurity:** It can be understood as a criterion to minimize the probability of **misclassification**. <br>\n",
    "**Entropy:** It attempts to maximize the mutual information in the tree\n",
    "Both **Gini Impurity** and **Entropy** yields very similar results.<br>\n",
    "More benefical of experimenting with different **pruning cut-offs** than different impurity criteria.<br>\n",
    "**Classification Error:** This is useful for pruning but not **recommended** because it is less sensitive to changes \n",
    "in the class **probabilities**\n"
   ]
  },
  {
   "cell_type": "markdown",
   "metadata": {},
   "source": [
    "## Exercise"
   ]
  },
  {
   "cell_type": "markdown",
   "metadata": {},
   "source": [
    "Building a decision tree\n",
    "Train a decision tree on iris data\n",
    "-  Use Iris data, features «petal length» and «petal width»\n",
    "-  Maximum tree depth: 4\n",
    "-  Impurity criterion: Gini impurity\n",
    "-  Test size in train_test_split function: 0.3 (random_state = 1) \n",
    "-  No need to scale data for decision tree classifier\n",
    "-  Print out accuracy for training and test set\n",
    "-  Use features petal width and petal length"
   ]
  },
  {
   "cell_type": "code",
   "execution_count": 1,
   "metadata": {},
   "outputs": [],
   "source": [
    "#import modules\n",
    "from sklearn.tree import DecisionTreeClassifier\n",
    "from sklearn import datasets\n",
    "from sklearn.model_selection import train_test_split\n",
    "import matplotlib.pyplot as plt\n",
    "from mlxtend.plotting import plot_decision_regions\n",
    "import numpy as np"
   ]
  },
  {
   "cell_type": "code",
   "execution_count": 2,
   "metadata": {},
   "outputs": [],
   "source": [
    "# Load the data \n",
    "iris = datasets.load_iris()\n",
    "# Select Petal length and petal width\n",
    "X = iris.data[:, [2, 3]]\n",
    "y = iris.target"
   ]
  },
  {
   "cell_type": "code",
   "execution_count": 3,
   "metadata": {},
   "outputs": [],
   "source": [
    "X_train, X_test, y_train, y_test = train_test_split(X, y, test_size=0.3, random_state=1, stratify=y)"
   ]
  },
  {
   "cell_type": "code",
   "execution_count": 4,
   "metadata": {},
   "outputs": [
    {
     "data": {
      "text/plain": [
       "DecisionTreeClassifier(class_weight=None, criterion='gini', max_depth=4,\n",
       "            max_features=None, max_leaf_nodes=None,\n",
       "            min_impurity_decrease=0.0, min_impurity_split=None,\n",
       "            min_samples_leaf=1, min_samples_split=2,\n",
       "            min_weight_fraction_leaf=0.0, presort=False, random_state=1,\n",
       "            splitter='best')"
      ]
     },
     "execution_count": 4,
     "metadata": {},
     "output_type": "execute_result"
    }
   ],
   "source": [
    "# Train the Decision Tree classifier\n",
    "tree = DecisionTreeClassifier(criterion='gini',max_depth=4,random_state=1)\n",
    "tree.fit(X_train, y_train)"
   ]
  },
  {
   "cell_type": "code",
   "execution_count": 5,
   "metadata": {},
   "outputs": [],
   "source": [
    "#prediction\n",
    "y_pred = tree.predict(X_test)"
   ]
  },
  {
   "cell_type": "code",
   "execution_count": 6,
   "metadata": {},
   "outputs": [
    {
     "name": "stdout",
     "output_type": "stream",
     "text": [
      "Accuracy for the training set 0.9714285714285714\n"
     ]
    }
   ],
   "source": [
    "#Accuracy for the traning set\n",
    "print(\"Accuracy for the training set\", tree.score(X_train, y_train))"
   ]
  },
  {
   "cell_type": "code",
   "execution_count": 7,
   "metadata": {},
   "outputs": [
    {
     "name": "stdout",
     "output_type": "stream",
     "text": [
      "Accuracy for the training set 0.9777777777777777\n"
     ]
    }
   ],
   "source": [
    "#Accuracy for the test Set\n",
    "print(\"Accuracy for the training set\", tree.score(X_test, y_test))"
   ]
  },
  {
   "cell_type": "code",
   "execution_count": 8,
   "metadata": {},
   "outputs": [
    {
     "data": {
      "image/png": "[encoded data removed]",
      "text/plain": [
       "<Figure size 432x288 with 1 Axes>"
      ]
     },
     "metadata": {
      "needs_background": "light"
     },
     "output_type": "display_data"
    }
   ],
   "source": [
    "#Plot the Decision Region Using Mlxtend package\n",
    "X_combined = np.vstack((X_train, X_test))\n",
    "y_combined = np.hstack((y_train, y_test))\n",
    "\n",
    "plot_decision_regions(X=X_combined,y=y_combined,clf=tree,X_highlight=X_test)\n",
    "plt.xlabel('petal length [cm]')\n",
    "plt.ylabel('petal width [cm]')\n",
    "plt.legend(loc='upper left')\n",
    "plt.tight_layout()"
   ]
  },
  {
   "cell_type": "code",
   "execution_count": null,
   "metadata": {},
   "outputs": [],
   "source": []
  }
 ],
 "metadata": {
  "kernelspec": {
   "display_name": "Python 3",
   "language": "python",
   "name": "python3"
  },
  "language_info": {
   "codemirror_mode": {
    "name": "ipython",
    "version": 3
   },
   "file_extension": ".py",
   "mimetype": "text/x-python",
   "name": "python",
   "nbconvert_exporter": "python",
   "pygments_lexer": "ipython3",
   "version": "3.7.1"
  }
 },
 "nbformat": 4,
 "nbformat_minor": 2
}
